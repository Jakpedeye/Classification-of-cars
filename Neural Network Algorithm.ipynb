{
 "cells": [
  {
   "cell_type": "markdown",
   "metadata": {
    "id": "aJ1O46KvczWT"
   },
   "source": [
    "**Importing The Libraries**"
   ]
  },
  {
   "cell_type": "code",
   "execution_count": 1,
   "metadata": {},
   "outputs": [
    {
     "name": "stdout",
     "output_type": "stream",
     "text": [
      "Requirement already satisfied: tensorflow in c:\\users\\user\\anaconda3\\lib\\site-packages (2.11.0)\n",
      "Requirement already satisfied: tensorflow-intel==2.11.0 in c:\\users\\user\\anaconda3\\lib\\site-packages (from tensorflow) (2.11.0)\n",
      "Requirement already satisfied: tensorboard<2.12,>=2.11 in c:\\users\\user\\anaconda3\\lib\\site-packages (from tensorflow-intel==2.11.0->tensorflow) (2.11.0)\n",
      "Requirement already satisfied: flatbuffers>=2.0 in c:\\users\\user\\anaconda3\\lib\\site-packages (from tensorflow-intel==2.11.0->tensorflow) (22.12.6)\n",
      "Requirement already satisfied: grpcio<2.0,>=1.24.3 in c:\\users\\user\\anaconda3\\lib\\site-packages (from tensorflow-intel==2.11.0->tensorflow) (1.42.0)\n",
      "Requirement already satisfied: h5py>=2.9.0 in c:\\users\\user\\anaconda3\\lib\\site-packages (from tensorflow-intel==2.11.0->tensorflow) (3.6.0)\n",
      "Requirement already satisfied: setuptools in c:\\users\\user\\anaconda3\\lib\\site-packages (from tensorflow-intel==2.11.0->tensorflow) (61.2.0)\n",
      "Requirement already satisfied: protobuf<3.20,>=3.9.2 in c:\\users\\user\\anaconda3\\lib\\site-packages (from tensorflow-intel==2.11.0->tensorflow) (3.19.1)\n",
      "Requirement already satisfied: typing-extensions>=3.6.6 in c:\\users\\user\\anaconda3\\lib\\site-packages (from tensorflow-intel==2.11.0->tensorflow) (4.1.1)\n",
      "Requirement already satisfied: termcolor>=1.1.0 in c:\\users\\user\\anaconda3\\lib\\site-packages (from tensorflow-intel==2.11.0->tensorflow) (2.1.1)\n",
      "Requirement already satisfied: tensorflow-io-gcs-filesystem>=0.23.1 in c:\\users\\user\\anaconda3\\lib\\site-packages (from tensorflow-intel==2.11.0->tensorflow) (0.28.0)\n",
      "Requirement already satisfied: keras<2.12,>=2.11.0 in c:\\users\\user\\anaconda3\\lib\\site-packages (from tensorflow-intel==2.11.0->tensorflow) (2.11.0)\n",
      "Requirement already satisfied: six>=1.12.0 in c:\\users\\user\\anaconda3\\lib\\site-packages (from tensorflow-intel==2.11.0->tensorflow) (1.16.0)\n",
      "Requirement already satisfied: libclang>=13.0.0 in c:\\users\\user\\anaconda3\\lib\\site-packages (from tensorflow-intel==2.11.0->tensorflow) (14.0.6)\n",
      "Requirement already satisfied: astunparse>=1.6.0 in c:\\users\\user\\anaconda3\\lib\\site-packages (from tensorflow-intel==2.11.0->tensorflow) (1.6.3)\n",
      "Requirement already satisfied: opt-einsum>=2.3.2 in c:\\users\\user\\anaconda3\\lib\\site-packages (from tensorflow-intel==2.11.0->tensorflow) (3.3.0)\n",
      "Requirement already satisfied: packaging in c:\\users\\user\\anaconda3\\lib\\site-packages (from tensorflow-intel==2.11.0->tensorflow) (21.3)\n",
      "Requirement already satisfied: gast<=0.4.0,>=0.2.1 in c:\\users\\user\\anaconda3\\lib\\site-packages (from tensorflow-intel==2.11.0->tensorflow) (0.4.0)\n",
      "Requirement already satisfied: absl-py>=1.0.0 in c:\\users\\user\\anaconda3\\lib\\site-packages (from tensorflow-intel==2.11.0->tensorflow) (1.3.0)\n",
      "Requirement already satisfied: numpy>=1.20 in c:\\users\\user\\anaconda3\\lib\\site-packages (from tensorflow-intel==2.11.0->tensorflow) (1.21.5)\n",
      "Requirement already satisfied: google-pasta>=0.1.1 in c:\\users\\user\\anaconda3\\lib\\site-packages (from tensorflow-intel==2.11.0->tensorflow) (0.2.0)\n",
      "Requirement already satisfied: wrapt>=1.11.0 in c:\\users\\user\\anaconda3\\lib\\site-packages (from tensorflow-intel==2.11.0->tensorflow) (1.12.1)\n",
      "Requirement already satisfied: tensorflow-estimator<2.12,>=2.11.0 in c:\\users\\user\\anaconda3\\lib\\site-packages (from tensorflow-intel==2.11.0->tensorflow) (2.11.0)\n",
      "Requirement already satisfied: wheel<1.0,>=0.23.0 in c:\\users\\user\\anaconda3\\lib\\site-packages (from astunparse>=1.6.0->tensorflow-intel==2.11.0->tensorflow) (0.37.1)\n",
      "Requirement already satisfied: werkzeug>=1.0.1 in c:\\users\\user\\anaconda3\\lib\\site-packages (from tensorboard<2.12,>=2.11->tensorflow-intel==2.11.0->tensorflow) (2.0.3)\n",
      "Requirement already satisfied: markdown>=2.6.8 in c:\\users\\user\\anaconda3\\lib\\site-packages (from tensorboard<2.12,>=2.11->tensorflow-intel==2.11.0->tensorflow) (3.3.4)\n",
      "Requirement already satisfied: google-auth<3,>=1.6.3 in c:\\users\\user\\anaconda3\\lib\\site-packages (from tensorboard<2.12,>=2.11->tensorflow-intel==2.11.0->tensorflow) (1.33.0)\n",
      "Requirement already satisfied: requests<3,>=2.21.0 in c:\\users\\user\\anaconda3\\lib\\site-packages (from tensorboard<2.12,>=2.11->tensorflow-intel==2.11.0->tensorflow) (2.27.1)\n",
      "Requirement already satisfied: google-auth-oauthlib<0.5,>=0.4.1 in c:\\users\\user\\anaconda3\\lib\\site-packages (from tensorboard<2.12,>=2.11->tensorflow-intel==2.11.0->tensorflow) (0.4.6)\n",
      "Requirement already satisfied: tensorboard-data-server<0.7.0,>=0.6.0 in c:\\users\\user\\anaconda3\\lib\\site-packages (from tensorboard<2.12,>=2.11->tensorflow-intel==2.11.0->tensorflow) (0.6.1)\n",
      "Requirement already satisfied: tensorboard-plugin-wit>=1.6.0 in c:\\users\\user\\anaconda3\\lib\\site-packages (from tensorboard<2.12,>=2.11->tensorflow-intel==2.11.0->tensorflow) (1.8.1)\n",
      "Requirement already satisfied: cachetools<5.0,>=2.0.0 in c:\\users\\user\\anaconda3\\lib\\site-packages (from google-auth<3,>=1.6.3->tensorboard<2.12,>=2.11->tensorflow-intel==2.11.0->tensorflow) (4.2.2)\n",
      "Requirement already satisfied: pyasn1-modules>=0.2.1 in c:\\users\\user\\anaconda3\\lib\\site-packages (from google-auth<3,>=1.6.3->tensorboard<2.12,>=2.11->tensorflow-intel==2.11.0->tensorflow) (0.2.8)\n",
      "Requirement already satisfied: rsa<5,>=3.1.4 in c:\\users\\user\\anaconda3\\lib\\site-packages (from google-auth<3,>=1.6.3->tensorboard<2.12,>=2.11->tensorflow-intel==2.11.0->tensorflow) (4.7.2)\n",
      "Requirement already satisfied: requests-oauthlib>=0.7.0 in c:\\users\\user\\anaconda3\\lib\\site-packages (from google-auth-oauthlib<0.5,>=0.4.1->tensorboard<2.12,>=2.11->tensorflow-intel==2.11.0->tensorflow) (1.3.1)\n",
      "Requirement already satisfied: pyasn1<0.5.0,>=0.4.6 in c:\\users\\user\\anaconda3\\lib\\site-packages (from pyasn1-modules>=0.2.1->google-auth<3,>=1.6.3->tensorboard<2.12,>=2.11->tensorflow-intel==2.11.0->tensorflow) (0.4.8)\n",
      "Requirement already satisfied: charset-normalizer~=2.0.0 in c:\\users\\user\\anaconda3\\lib\\site-packages (from requests<3,>=2.21.0->tensorboard<2.12,>=2.11->tensorflow-intel==2.11.0->tensorflow) (2.0.4)\n",
      "Requirement already satisfied: idna<4,>=2.5 in c:\\users\\user\\anaconda3\\lib\\site-packages (from requests<3,>=2.21.0->tensorboard<2.12,>=2.11->tensorflow-intel==2.11.0->tensorflow) (3.3)\n",
      "Requirement already satisfied: certifi>=2017.4.17 in c:\\users\\user\\anaconda3\\lib\\site-packages (from requests<3,>=2.21.0->tensorboard<2.12,>=2.11->tensorflow-intel==2.11.0->tensorflow) (2022.9.24)\n",
      "Requirement already satisfied: urllib3<1.27,>=1.21.1 in c:\\users\\user\\anaconda3\\lib\\site-packages (from requests<3,>=2.21.0->tensorboard<2.12,>=2.11->tensorflow-intel==2.11.0->tensorflow) (1.26.9)\n",
      "Requirement already satisfied: oauthlib>=3.0.0 in c:\\users\\user\\anaconda3\\lib\\site-packages (from requests-oauthlib>=0.7.0->google-auth-oauthlib<0.5,>=0.4.1->tensorboard<2.12,>=2.11->tensorflow-intel==2.11.0->tensorflow) (3.2.2)\n",
      "Requirement already satisfied: pyparsing!=3.0.5,>=2.0.2 in c:\\users\\user\\anaconda3\\lib\\site-packages (from packaging->tensorflow-intel==2.11.0->tensorflow) (3.0.4)\n"
     ]
    }
   ],
   "source": [
    "!pip install tensorflow"
   ]
  },
  {
   "cell_type": "code",
   "execution_count": 2,
   "metadata": {
    "id": "7ugRdwRSJ9Ai"
   },
   "outputs": [],
   "source": [
    "import numpy as np\n",
    "import pandas as pd\n",
    "import matplotlib.pyplot as plt\n",
    "import tensorflow as tf\n",
    "import seaborn as sns\n",
    "from sklearn.preprocessing import StandardScaler\n",
    "from sklearn.model_selection import train_test_split"
   ]
  },
  {
   "cell_type": "markdown",
   "metadata": {
    "id": "oMkvI9wPd79Q"
   },
   "source": [
    "**Reading the Data to dataframe**\n",
    "\n"
   ]
  },
  {
   "cell_type": "code",
   "execution_count": 3,
   "metadata": {
    "id": "btVGH06kc6IB"
   },
   "outputs": [],
   "source": [
    "car_data = pd.read_csv('car.csv', names = ['Buying_Price', 'Maintenance_Price', 'Number_Of_Doors', 'Number_Of_Persons', 'Boot_Size', 'Safety', 'Acceptability'])"
   ]
  },
  {
   "cell_type": "markdown",
   "metadata": {
    "id": "QwIWw21-ejjg"
   },
   "source": [
    "## Exploring the data to get some insights\n",
    "**Checking the first 5 rows of the data**\n",
    "\n"
   ]
  },
  {
   "cell_type": "code",
   "execution_count": 4,
   "metadata": {
    "colab": {
     "base_uri": "https://localhost:8080/",
     "height": 206
    },
    "id": "J9_p4BavebdU",
    "outputId": "9b428f79-2913-4786-c8db-ca67a0c97490"
   },
   "outputs": [
    {
     "data": {
      "text/html": [
       "<div>\n",
       "<style scoped>\n",
       "    .dataframe tbody tr th:only-of-type {\n",
       "        vertical-align: middle;\n",
       "    }\n",
       "\n",
       "    .dataframe tbody tr th {\n",
       "        vertical-align: top;\n",
       "    }\n",
       "\n",
       "    .dataframe thead th {\n",
       "        text-align: right;\n",
       "    }\n",
       "</style>\n",
       "<table border=\"1\" class=\"dataframe\">\n",
       "  <thead>\n",
       "    <tr style=\"text-align: right;\">\n",
       "      <th></th>\n",
       "      <th>Buying_Price</th>\n",
       "      <th>Maintenance_Price</th>\n",
       "      <th>Number_Of_Doors</th>\n",
       "      <th>Number_Of_Persons</th>\n",
       "      <th>Boot_Size</th>\n",
       "      <th>Safety</th>\n",
       "      <th>Acceptability</th>\n",
       "    </tr>\n",
       "  </thead>\n",
       "  <tbody>\n",
       "    <tr>\n",
       "      <th>0</th>\n",
       "      <td>vhigh</td>\n",
       "      <td>vhigh</td>\n",
       "      <td>2</td>\n",
       "      <td>2</td>\n",
       "      <td>small</td>\n",
       "      <td>low</td>\n",
       "      <td>unacc</td>\n",
       "    </tr>\n",
       "    <tr>\n",
       "      <th>1</th>\n",
       "      <td>vhigh</td>\n",
       "      <td>vhigh</td>\n",
       "      <td>2</td>\n",
       "      <td>2</td>\n",
       "      <td>small</td>\n",
       "      <td>med</td>\n",
       "      <td>unacc</td>\n",
       "    </tr>\n",
       "    <tr>\n",
       "      <th>2</th>\n",
       "      <td>vhigh</td>\n",
       "      <td>vhigh</td>\n",
       "      <td>2</td>\n",
       "      <td>2</td>\n",
       "      <td>small</td>\n",
       "      <td>high</td>\n",
       "      <td>unacc</td>\n",
       "    </tr>\n",
       "    <tr>\n",
       "      <th>3</th>\n",
       "      <td>vhigh</td>\n",
       "      <td>vhigh</td>\n",
       "      <td>2</td>\n",
       "      <td>2</td>\n",
       "      <td>med</td>\n",
       "      <td>low</td>\n",
       "      <td>unacc</td>\n",
       "    </tr>\n",
       "    <tr>\n",
       "      <th>4</th>\n",
       "      <td>vhigh</td>\n",
       "      <td>vhigh</td>\n",
       "      <td>2</td>\n",
       "      <td>2</td>\n",
       "      <td>med</td>\n",
       "      <td>med</td>\n",
       "      <td>unacc</td>\n",
       "    </tr>\n",
       "  </tbody>\n",
       "</table>\n",
       "</div>"
      ],
      "text/plain": [
       "  Buying_Price Maintenance_Price Number_Of_Doors Number_Of_Persons Boot_Size  \\\n",
       "0        vhigh             vhigh               2                 2     small   \n",
       "1        vhigh             vhigh               2                 2     small   \n",
       "2        vhigh             vhigh               2                 2     small   \n",
       "3        vhigh             vhigh               2                 2       med   \n",
       "4        vhigh             vhigh               2                 2       med   \n",
       "\n",
       "  Safety Acceptability  \n",
       "0    low         unacc  \n",
       "1    med         unacc  \n",
       "2   high         unacc  \n",
       "3    low         unacc  \n",
       "4    med         unacc  "
      ]
     },
     "execution_count": 4,
     "metadata": {},
     "output_type": "execute_result"
    }
   ],
   "source": [
    "car_data.head()"
   ]
  },
  {
   "cell_type": "markdown",
   "metadata": {
    "id": "UD1VFMExfFaB"
   },
   "source": [
    "**Checking the bottom 5 rows of the data**"
   ]
  },
  {
   "cell_type": "code",
   "execution_count": 5,
   "metadata": {
    "colab": {
     "base_uri": "https://localhost:8080/",
     "height": 206
    },
    "id": "R4MJFM8xefOW",
    "outputId": "f609e295-48e0-4da0-b52c-f2f2bb024db8"
   },
   "outputs": [
    {
     "data": {
      "text/html": [
       "<div>\n",
       "<style scoped>\n",
       "    .dataframe tbody tr th:only-of-type {\n",
       "        vertical-align: middle;\n",
       "    }\n",
       "\n",
       "    .dataframe tbody tr th {\n",
       "        vertical-align: top;\n",
       "    }\n",
       "\n",
       "    .dataframe thead th {\n",
       "        text-align: right;\n",
       "    }\n",
       "</style>\n",
       "<table border=\"1\" class=\"dataframe\">\n",
       "  <thead>\n",
       "    <tr style=\"text-align: right;\">\n",
       "      <th></th>\n",
       "      <th>Buying_Price</th>\n",
       "      <th>Maintenance_Price</th>\n",
       "      <th>Number_Of_Doors</th>\n",
       "      <th>Number_Of_Persons</th>\n",
       "      <th>Boot_Size</th>\n",
       "      <th>Safety</th>\n",
       "      <th>Acceptability</th>\n",
       "    </tr>\n",
       "  </thead>\n",
       "  <tbody>\n",
       "    <tr>\n",
       "      <th>1723</th>\n",
       "      <td>low</td>\n",
       "      <td>low</td>\n",
       "      <td>5more</td>\n",
       "      <td>more</td>\n",
       "      <td>med</td>\n",
       "      <td>med</td>\n",
       "      <td>good</td>\n",
       "    </tr>\n",
       "    <tr>\n",
       "      <th>1724</th>\n",
       "      <td>low</td>\n",
       "      <td>low</td>\n",
       "      <td>5more</td>\n",
       "      <td>more</td>\n",
       "      <td>med</td>\n",
       "      <td>high</td>\n",
       "      <td>vgood</td>\n",
       "    </tr>\n",
       "    <tr>\n",
       "      <th>1725</th>\n",
       "      <td>low</td>\n",
       "      <td>low</td>\n",
       "      <td>5more</td>\n",
       "      <td>more</td>\n",
       "      <td>big</td>\n",
       "      <td>low</td>\n",
       "      <td>unacc</td>\n",
       "    </tr>\n",
       "    <tr>\n",
       "      <th>1726</th>\n",
       "      <td>low</td>\n",
       "      <td>low</td>\n",
       "      <td>5more</td>\n",
       "      <td>more</td>\n",
       "      <td>big</td>\n",
       "      <td>med</td>\n",
       "      <td>good</td>\n",
       "    </tr>\n",
       "    <tr>\n",
       "      <th>1727</th>\n",
       "      <td>low</td>\n",
       "      <td>low</td>\n",
       "      <td>5more</td>\n",
       "      <td>more</td>\n",
       "      <td>big</td>\n",
       "      <td>high</td>\n",
       "      <td>vgood</td>\n",
       "    </tr>\n",
       "  </tbody>\n",
       "</table>\n",
       "</div>"
      ],
      "text/plain": [
       "     Buying_Price Maintenance_Price Number_Of_Doors Number_Of_Persons  \\\n",
       "1723          low               low           5more              more   \n",
       "1724          low               low           5more              more   \n",
       "1725          low               low           5more              more   \n",
       "1726          low               low           5more              more   \n",
       "1727          low               low           5more              more   \n",
       "\n",
       "     Boot_Size Safety Acceptability  \n",
       "1723       med    med          good  \n",
       "1724       med   high         vgood  \n",
       "1725       big    low         unacc  \n",
       "1726       big    med          good  \n",
       "1727       big   high         vgood  "
      ]
     },
     "execution_count": 5,
     "metadata": {},
     "output_type": "execute_result"
    }
   ],
   "source": [
    "car_data.tail()"
   ]
  },
  {
   "cell_type": "markdown",
   "metadata": {
    "id": "_l4-Q47ffZBq"
   },
   "source": [
    "**Checking the information of the data**"
   ]
  },
  {
   "cell_type": "code",
   "execution_count": 6,
   "metadata": {
    "colab": {
     "base_uri": "https://localhost:8080/"
    },
    "id": "UgH-0bgZfU35",
    "outputId": "c0d2686b-2013-454c-ad25-6ac08cfae212"
   },
   "outputs": [
    {
     "name": "stdout",
     "output_type": "stream",
     "text": [
      "<class 'pandas.core.frame.DataFrame'>\n",
      "RangeIndex: 1728 entries, 0 to 1727\n",
      "Data columns (total 7 columns):\n",
      " #   Column             Non-Null Count  Dtype \n",
      "---  ------             --------------  ----- \n",
      " 0   Buying_Price       1728 non-null   object\n",
      " 1   Maintenance_Price  1728 non-null   object\n",
      " 2   Number_Of_Doors    1728 non-null   object\n",
      " 3   Number_Of_Persons  1728 non-null   object\n",
      " 4   Boot_Size          1728 non-null   object\n",
      " 5   Safety             1728 non-null   object\n",
      " 6   Acceptability      1728 non-null   object\n",
      "dtypes: object(7)\n",
      "memory usage: 94.6+ KB\n"
     ]
    }
   ],
   "source": [
    "car_data.info()"
   ]
  },
  {
   "cell_type": "markdown",
   "metadata": {
    "id": "KcJETzhrgMoA"
   },
   "source": []
  },
  {
   "cell_type": "markdown",
   "metadata": {
    "id": "Wt7Y_SZcfmAu"
   },
   "source": [
    "**Checking the shape of the data**"
   ]
  },
  {
   "cell_type": "code",
   "execution_count": 7,
   "metadata": {
    "colab": {
     "base_uri": "https://localhost:8080/"
    },
    "id": "uFXUSpXAfhHx",
    "outputId": "051d9436-ee95-48ce-ebfe-177a3d290dfb"
   },
   "outputs": [
    {
     "data": {
      "text/plain": [
       "(1728, 7)"
      ]
     },
     "execution_count": 7,
     "metadata": {},
     "output_type": "execute_result"
    }
   ],
   "source": [
    "car_data.shape"
   ]
  },
  {
   "cell_type": "markdown",
   "metadata": {
    "id": "qiGGoUIMf6VR"
   },
   "source": [
    "**Describing the data**\n"
   ]
  },
  {
   "cell_type": "code",
   "execution_count": 8,
   "metadata": {
    "colab": {
     "base_uri": "https://localhost:8080/",
     "height": 175
    },
    "id": "At3ujO76fsRa",
    "outputId": "7299c196-14bb-4e94-d757-60e96c517663"
   },
   "outputs": [
    {
     "data": {
      "text/html": [
       "<div>\n",
       "<style scoped>\n",
       "    .dataframe tbody tr th:only-of-type {\n",
       "        vertical-align: middle;\n",
       "    }\n",
       "\n",
       "    .dataframe tbody tr th {\n",
       "        vertical-align: top;\n",
       "    }\n",
       "\n",
       "    .dataframe thead th {\n",
       "        text-align: right;\n",
       "    }\n",
       "</style>\n",
       "<table border=\"1\" class=\"dataframe\">\n",
       "  <thead>\n",
       "    <tr style=\"text-align: right;\">\n",
       "      <th></th>\n",
       "      <th>Buying_Price</th>\n",
       "      <th>Maintenance_Price</th>\n",
       "      <th>Number_Of_Doors</th>\n",
       "      <th>Number_Of_Persons</th>\n",
       "      <th>Boot_Size</th>\n",
       "      <th>Safety</th>\n",
       "      <th>Acceptability</th>\n",
       "    </tr>\n",
       "  </thead>\n",
       "  <tbody>\n",
       "    <tr>\n",
       "      <th>count</th>\n",
       "      <td>1728</td>\n",
       "      <td>1728</td>\n",
       "      <td>1728</td>\n",
       "      <td>1728</td>\n",
       "      <td>1728</td>\n",
       "      <td>1728</td>\n",
       "      <td>1728</td>\n",
       "    </tr>\n",
       "    <tr>\n",
       "      <th>unique</th>\n",
       "      <td>4</td>\n",
       "      <td>4</td>\n",
       "      <td>4</td>\n",
       "      <td>3</td>\n",
       "      <td>3</td>\n",
       "      <td>3</td>\n",
       "      <td>4</td>\n",
       "    </tr>\n",
       "    <tr>\n",
       "      <th>top</th>\n",
       "      <td>vhigh</td>\n",
       "      <td>vhigh</td>\n",
       "      <td>2</td>\n",
       "      <td>2</td>\n",
       "      <td>small</td>\n",
       "      <td>low</td>\n",
       "      <td>unacc</td>\n",
       "    </tr>\n",
       "    <tr>\n",
       "      <th>freq</th>\n",
       "      <td>432</td>\n",
       "      <td>432</td>\n",
       "      <td>432</td>\n",
       "      <td>576</td>\n",
       "      <td>576</td>\n",
       "      <td>576</td>\n",
       "      <td>1210</td>\n",
       "    </tr>\n",
       "  </tbody>\n",
       "</table>\n",
       "</div>"
      ],
      "text/plain": [
       "       Buying_Price Maintenance_Price Number_Of_Doors Number_Of_Persons  \\\n",
       "count          1728              1728            1728              1728   \n",
       "unique            4                 4               4                 3   \n",
       "top           vhigh             vhigh               2                 2   \n",
       "freq            432               432             432               576   \n",
       "\n",
       "       Boot_Size Safety Acceptability  \n",
       "count       1728   1728          1728  \n",
       "unique         3      3             4  \n",
       "top        small    low         unacc  \n",
       "freq         576    576          1210  "
      ]
     },
     "execution_count": 8,
     "metadata": {},
     "output_type": "execute_result"
    }
   ],
   "source": [
    "car_data.describe()"
   ]
  },
  {
   "cell_type": "markdown",
   "metadata": {
    "id": "OdXJc8iagx6D"
   },
   "source": [
    "**Checking fro null values**"
   ]
  },
  {
   "cell_type": "code",
   "execution_count": 9,
   "metadata": {
    "colab": {
     "base_uri": "https://localhost:8080/"
    },
    "id": "g6GQHrywf-6P",
    "outputId": "c0897e0d-0702-4df7-8f4e-cb8d14f3e7cd"
   },
   "outputs": [
    {
     "data": {
      "text/plain": [
       "Buying_Price         False\n",
       "Maintenance_Price    False\n",
       "Number_Of_Doors      False\n",
       "Number_Of_Persons    False\n",
       "Boot_Size            False\n",
       "Safety               False\n",
       "Acceptability        False\n",
       "dtype: bool"
      ]
     },
     "execution_count": 9,
     "metadata": {},
     "output_type": "execute_result"
    }
   ],
   "source": [
    "car_data.isnull().any()"
   ]
  },
  {
   "cell_type": "markdown",
   "metadata": {
    "id": "dhUd3Rc_hqTb"
   },
   "source": [
    "**Checking the unique values in each column**"
   ]
  },
  {
   "cell_type": "code",
   "execution_count": 10,
   "metadata": {
    "colab": {
     "base_uri": "https://localhost:8080/"
    },
    "id": "_fXKyeg0hPPp",
    "outputId": "94642760-862c-4f5b-ffde-994523c37fdd"
   },
   "outputs": [
    {
     "name": "stdout",
     "output_type": "stream",
     "text": [
      "Buying_Price (4) :\n",
      "vhigh    432\n",
      "high     432\n",
      "med      432\n",
      "low      432\n",
      "Name: Buying_Price, dtype: int64\n",
      "Maintenance_Price (4) :\n",
      "vhigh    432\n",
      "high     432\n",
      "med      432\n",
      "low      432\n",
      "Name: Maintenance_Price, dtype: int64\n",
      "Number_Of_Doors (4) :\n",
      "2        432\n",
      "3        432\n",
      "4        432\n",
      "5more    432\n",
      "Name: Number_Of_Doors, dtype: int64\n",
      "Number_Of_Persons (3) :\n",
      "2       576\n",
      "4       576\n",
      "more    576\n",
      "Name: Number_Of_Persons, dtype: int64\n",
      "Boot_Size (3) :\n",
      "small    576\n",
      "med      576\n",
      "big      576\n",
      "Name: Boot_Size, dtype: int64\n",
      "Safety (3) :\n",
      "low     576\n",
      "med     576\n",
      "high    576\n",
      "Name: Safety, dtype: int64\n",
      "Acceptability (4) :\n",
      "unacc    1210\n",
      "acc       384\n",
      "good       69\n",
      "vgood      65\n",
      "Name: Acceptability, dtype: int64\n"
     ]
    }
   ],
   "source": [
    "for col in car_data:\n",
    "    print(col, '({})'.format(car_data[col].nunique()), ':')\n",
    "    print(car_data[col].value_counts())"
   ]
  },
  {
   "cell_type": "markdown",
   "metadata": {
    "id": "SAo-FRhYiIGn"
   },
   "source": [
    "**Visaulizing all the features**"
   ]
  },
  {
   "cell_type": "code",
   "execution_count": 11,
   "metadata": {
    "colab": {
     "base_uri": "https://localhost:8080/",
     "height": 1000
    },
    "id": "8VKPixiDh1KI",
    "outputId": "da6ae2a3-1987-40d4-e82f-c30bd617c968"
   },
   "outputs": [
    {
     "name": "stdout",
     "output_type": "stream",
     "text": [
      "graph for Buying_Price: total - 4\n"
     ]
    },
    {
     "data": {
      "image/png": "[encoded data removed]",
      "text/plain": [
       "<Figure size 432x288 with 1 Axes>"
      ]
     },
     "metadata": {
      "needs_background": "light"
     },
     "output_type": "display_data"
    },
    {
     "name": "stdout",
     "output_type": "stream",
     "text": [
      "graph for Maintenance_Price: total - 4\n"
     ]
    },
    {
     "data": {
      "image/png": "[encoded data removed]",
      "text/plain": [
       "<Figure size 432x288 with 1 Axes>"
      ]
     },
     "metadata": {
      "needs_background": "light"
     },
     "output_type": "display_data"
    },
    {
     "name": "stdout",
     "output_type": "stream",
     "text": [
      "graph for Number_Of_Doors: total - 4\n"
     ]
    },
    {
     "data": {
      "image/png": "[encoded data removed]",
      "text/plain": [
       "<Figure size 432x288 with 1 Axes>"
      ]
     },
     "metadata": {
      "needs_background": "light"
     },
     "output_type": "display_data"
    },
    {
     "name": "stdout",
     "output_type": "stream",
     "text": [
      "graph for Number_Of_Persons: total - 3\n"
     ]
    },
    {
     "data": {
      "image/png": "[encoded data removed]",
      "text/plain": [
       "<Figure size 432x288 with 1 Axes>"
      ]
     },
     "metadata": {
      "needs_background": "light"
     },
     "output_type": "display_data"
    },
    {
     "name": "stdout",
     "output_type": "stream",
     "text": [
      "graph for Boot_Size: total - 3\n"
     ]
    },
    {
     "data": {
      "image/png": "[encoded data removed]",
      "text/plain": [
       "<Figure size 432x288 with 1 Axes>"
      ]
     },
     "metadata": {
      "needs_background": "light"
     },
     "output_type": "display_data"
    },
    {
     "name": "stdout",
     "output_type": "stream",
     "text": [
      "graph for Safety: total - 3\n"
     ]
    },
    {
     "data": {
      "image/png": "[encoded data removed]",
      "text/plain": [
       "<Figure size 432x288 with 1 Axes>"
      ]
     },
     "metadata": {
      "needs_background": "light"
     },
     "output_type": "display_data"
    },
    {
     "name": "stdout",
     "output_type": "stream",
     "text": [
      "graph for Acceptability: total - 4\n"
     ]
    },
    {
     "data": {
      "image/png": "[encoded data removed]",
      "text/plain": [
       "<Figure size 432x288 with 1 Axes>"
      ]
     },
     "metadata": {
      "needs_background": "light"
     },
     "output_type": "display_data"
    }
   ],
   "source": [
    "for i in car_data:\n",
    "    car_num = car_data[i].value_counts()\n",
    "    print('graph for %s: total - %d' % (i, len(car_num)))\n",
    "    chart = sns.barplot(x=car_num.index, y=car_num)\n",
    "    chart.set_xticklabels(chart.get_xticklabels())\n",
    "    plt.show()"
   ]
  },
  {
   "cell_type": "markdown",
   "metadata": {
    "id": "NSnilTI6mQNH"
   },
   "source": [
    "**Encoding the All Column**"
   ]
  },
  {
   "cell_type": "code",
   "execution_count": 12,
   "metadata": {
    "id": "11aArIu_-ihS"
   },
   "outputs": [],
   "source": [
    "car_dataEnc = car_data"
   ]
  },
  {
   "cell_type": "code",
   "execution_count": 13,
   "metadata": {
    "id": "Wn5NKCy4mXk3"
   },
   "outputs": [],
   "source": [
    "car_dataEnc['Acceptability'] = car_data['Acceptability'].replace(['unacc', 'acc', 'good', 'vgood'], [0,1,2,3])"
   ]
  },
  {
   "cell_type": "code",
   "execution_count": 14,
   "metadata": {
    "id": "Dh8Ar4QBCBl3"
   },
   "outputs": [],
   "source": [
    "car_dataEnc['Buying_Price'] = car_data['Buying_Price'].replace(['vhigh', 'high', 'med', 'low'], [3,2,1,0])\n",
    "car_dataEnc['Maintenance_Price'] = car_data['Maintenance_Price'].replace(['vhigh', 'high', 'med', 'low'], [3,2,1,0])\n",
    "car_dataEnc['Number_Of_Doors'] = car_data['Number_Of_Doors'].replace(['2', '3', '4', '5more'], [0,1,2,3])\n",
    "car_dataEnc['Number_Of_Persons'] = car_data['Number_Of_Persons'].replace(['2', '4', 'more'], [0,1,2])\n",
    "car_dataEnc['Boot_Size'] = car_data['Boot_Size'].replace(['small', 'med', 'big'], [0,1,2])\n",
    "car_dataEnc['Safety'] = car_data['Safety'].replace(['low', 'med', 'high'], [0,1,2])"
   ]
  },
  {
   "cell_type": "markdown",
   "metadata": {
    "id": "_MI_URKkDd5O"
   },
   "source": [
    "**Checking the top 5  Encoded data**"
   ]
  },
  {
   "cell_type": "code",
   "execution_count": 15,
   "metadata": {
    "colab": {
     "base_uri": "https://localhost:8080/",
     "height": 206
    },
    "id": "4-s6dm_bB3Jy",
    "outputId": "74c510e8-e22a-46d9-bdc6-d036e4401793"
   },
   "outputs": [
    {
     "data": {
      "text/html": [
       "<div>\n",
       "<style scoped>\n",
       "    .dataframe tbody tr th:only-of-type {\n",
       "        vertical-align: middle;\n",
       "    }\n",
       "\n",
       "    .dataframe tbody tr th {\n",
       "        vertical-align: top;\n",
       "    }\n",
       "\n",
       "    .dataframe thead th {\n",
       "        text-align: right;\n",
       "    }\n",
       "</style>\n",
       "<table border=\"1\" class=\"dataframe\">\n",
       "  <thead>\n",
       "    <tr style=\"text-align: right;\">\n",
       "      <th></th>\n",
       "      <th>Buying_Price</th>\n",
       "      <th>Maintenance_Price</th>\n",
       "      <th>Number_Of_Doors</th>\n",
       "      <th>Number_Of_Persons</th>\n",
       "      <th>Boot_Size</th>\n",
       "      <th>Safety</th>\n",
       "      <th>Acceptability</th>\n",
       "    </tr>\n",
       "  </thead>\n",
       "  <tbody>\n",
       "    <tr>\n",
       "      <th>0</th>\n",
       "      <td>3</td>\n",
       "      <td>3</td>\n",
       "      <td>0</td>\n",
       "      <td>0</td>\n",
       "      <td>0</td>\n",
       "      <td>0</td>\n",
       "      <td>0</td>\n",
       "    </tr>\n",
       "    <tr>\n",
       "      <th>1</th>\n",
       "      <td>3</td>\n",
       "      <td>3</td>\n",
       "      <td>0</td>\n",
       "      <td>0</td>\n",
       "      <td>0</td>\n",
       "      <td>1</td>\n",
       "      <td>0</td>\n",
       "    </tr>\n",
       "    <tr>\n",
       "      <th>2</th>\n",
       "      <td>3</td>\n",
       "      <td>3</td>\n",
       "      <td>0</td>\n",
       "      <td>0</td>\n",
       "      <td>0</td>\n",
       "      <td>2</td>\n",
       "      <td>0</td>\n",
       "    </tr>\n",
       "    <tr>\n",
       "      <th>3</th>\n",
       "      <td>3</td>\n",
       "      <td>3</td>\n",
       "      <td>0</td>\n",
       "      <td>0</td>\n",
       "      <td>1</td>\n",
       "      <td>0</td>\n",
       "      <td>0</td>\n",
       "    </tr>\n",
       "    <tr>\n",
       "      <th>4</th>\n",
       "      <td>3</td>\n",
       "      <td>3</td>\n",
       "      <td>0</td>\n",
       "      <td>0</td>\n",
       "      <td>1</td>\n",
       "      <td>1</td>\n",
       "      <td>0</td>\n",
       "    </tr>\n",
       "  </tbody>\n",
       "</table>\n",
       "</div>"
      ],
      "text/plain": [
       "   Buying_Price  Maintenance_Price  Number_Of_Doors  Number_Of_Persons  \\\n",
       "0             3                  3                0                  0   \n",
       "1             3                  3                0                  0   \n",
       "2             3                  3                0                  0   \n",
       "3             3                  3                0                  0   \n",
       "4             3                  3                0                  0   \n",
       "\n",
       "   Boot_Size  Safety  Acceptability  \n",
       "0          0       0              0  \n",
       "1          0       1              0  \n",
       "2          0       2              0  \n",
       "3          1       0              0  \n",
       "4          1       1              0  "
      ]
     },
     "execution_count": 15,
     "metadata": {},
     "output_type": "execute_result"
    }
   ],
   "source": [
    "car_dataEnc.head()"
   ]
  },
  {
   "cell_type": "markdown",
   "metadata": {
    "id": "PnOofXRgDnOU"
   },
   "source": [
    "**Checking all the unique values of the encoded table**"
   ]
  },
  {
   "cell_type": "code",
   "execution_count": 16,
   "metadata": {
    "colab": {
     "base_uri": "https://localhost:8080/"
    },
    "id": "tjpq0X88k1l2",
    "outputId": "d732e255-d71b-4ae2-8a2b-bd2c8bb67430"
   },
   "outputs": [
    {
     "name": "stdout",
     "output_type": "stream",
     "text": [
      "Buying_Price (4) :\n",
      "3    432\n",
      "2    432\n",
      "1    432\n",
      "0    432\n",
      "Name: Buying_Price, dtype: int64\n",
      "Maintenance_Price (4) :\n",
      "3    432\n",
      "2    432\n",
      "1    432\n",
      "0    432\n",
      "Name: Maintenance_Price, dtype: int64\n",
      "Number_Of_Doors (4) :\n",
      "0    432\n",
      "1    432\n",
      "2    432\n",
      "3    432\n",
      "Name: Number_Of_Doors, dtype: int64\n",
      "Number_Of_Persons (3) :\n",
      "0    576\n",
      "1    576\n",
      "2    576\n",
      "Name: Number_Of_Persons, dtype: int64\n",
      "Boot_Size (3) :\n",
      "0    576\n",
      "1    576\n",
      "2    576\n",
      "Name: Boot_Size, dtype: int64\n",
      "Safety (3) :\n",
      "0    576\n",
      "1    576\n",
      "2    576\n",
      "Name: Safety, dtype: int64\n",
      "Acceptability (4) :\n",
      "0    1210\n",
      "1     384\n",
      "2      69\n",
      "3      65\n",
      "Name: Acceptability, dtype: int64\n"
     ]
    }
   ],
   "source": [
    "for col in car_dataEnc:\n",
    "    print(col, '({})'.format(car_dataEnc[col].nunique()), ':')\n",
    "    print(car_dataEnc[col].value_counts())"
   ]
  },
  {
   "cell_type": "markdown",
   "metadata": {
    "id": "UH55DWSOD71r"
   },
   "source": [
    "**Visualizing the encoded data**"
   ]
  },
  {
   "cell_type": "code",
   "execution_count": 17,
   "metadata": {
    "colab": {
     "base_uri": "https://localhost:8080/",
     "height": 1000
    },
    "id": "_J3KtAHXCqh_",
    "outputId": "de790b96-8fea-40b7-8ef8-2443154c7833"
   },
   "outputs": [
    {
     "name": "stdout",
     "output_type": "stream",
     "text": [
      "graph for Buying_Price: total - 4\n"
     ]
    },
    {
     "data": {
      "image/png": "[encoded data removed]",
      "text/plain": [
       "<Figure size 432x288 with 1 Axes>"
      ]
     },
     "metadata": {
      "needs_background": "light"
     },
     "output_type": "display_data"
    },
    {
     "name": "stdout",
     "output_type": "stream",
     "text": [
      "graph for Maintenance_Price: total - 4\n"
     ]
    },
    {
     "data": {
      "image/png": "[encoded data removed]",
      "text/plain": [
       "<Figure size 432x288 with 1 Axes>"
      ]
     },
     "metadata": {
      "needs_background": "light"
     },
     "output_type": "display_data"
    },
    {
     "name": "stdout",
     "output_type": "stream",
     "text": [
      "graph for Number_Of_Doors: total - 4\n"
     ]
    },
    {
     "data": {
      "image/png": "[encoded data removed]",
      "text/plain": [
       "<Figure size 432x288 with 1 Axes>"
      ]
     },
     "metadata": {
      "needs_background": "light"
     },
     "output_type": "display_data"
    },
    {
     "name": "stdout",
     "output_type": "stream",
     "text": [
      "graph for Number_Of_Persons: total - 3\n"
     ]
    },
    {
     "data": {
      "image/png": "[encoded data removed]",
      "text/plain": [
       "<Figure size 432x288 with 1 Axes>"
      ]
     },
     "metadata": {
      "needs_background": "light"
     },
     "output_type": "display_data"
    },
    {
     "name": "stdout",
     "output_type": "stream",
     "text": [
      "graph for Boot_Size: total - 3\n"
     ]
    },
    {
     "data": {
      "image/png": "[encoded data removed]",
      "text/plain": [
       "<Figure size 432x288 with 1 Axes>"
      ]
     },
     "metadata": {
      "needs_background": "light"
     },
     "output_type": "display_data"
    },
    {
     "name": "stdout",
     "output_type": "stream",
     "text": [
      "graph for Safety: total - 3\n"
     ]
    },
    {
     "data": {
      "image/png": "[encoded data removed]",
      "text/plain": [
       "<Figure size 432x288 with 1 Axes>"
      ]
     },
     "metadata": {
      "needs_background": "light"
     },
     "output_type": "display_data"
    },
    {
     "name": "stdout",
     "output_type": "stream",
     "text": [
      "graph for Acceptability: total - 4\n"
     ]
    },
    {
     "data": {
      "image/png": "[encoded data removed]",
      "text/plain": [
       "<Figure size 432x288 with 1 Axes>"
      ]
     },
     "metadata": {
      "needs_background": "light"
     },
     "output_type": "display_data"
    }
   ],
   "source": [
    "for i in car_dataEnc:\n",
    "    car_plot = car_dataEnc[i].value_counts()\n",
    "    print('graph for %s: total - %d' % (i, len(car_plot)))\n",
    "    chart = sns.barplot(x=car_plot.index, y=car_plot)\n",
    "    chart.set_xticklabels(chart.get_xticklabels())\n",
    "    plt.show()"
   ]
  },
  {
   "cell_type": "markdown",
   "metadata": {
    "id": "AWWi9cd9EVam"
   },
   "source": [
    "**Using train_test_split to split and train the data**"
   ]
  },
  {
   "cell_type": "code",
   "execution_count": 18,
   "metadata": {
    "id": "k_Reyd94C0RR"
   },
   "outputs": [],
   "source": [
    "X = car_dataEnc.drop('Acceptability', axis = 1)\n",
    "y = car_dataEnc['Acceptability']\n",
    "\n",
    "X_train, X_test, y_train, y_test = train_test_split(X, y, test_size = 0.3, stratify = y, random_state = 99)\n",
    "\n",
    "sc = StandardScaler()\n",
    "X_train = sc.fit_transform(X_train)\n",
    "X_test = sc.transform(X_test)"
   ]
  },
  {
   "cell_type": "markdown",
   "metadata": {
    "id": "uD-lcx7gGIQQ"
   },
   "source": [
    "**Building and Training the Neural Network**"
   ]
  },
  {
   "cell_type": "code",
   "execution_count": 19,
   "metadata": {
    "id": "oHuLTrgo5Isr"
   },
   "outputs": [],
   "source": [
    "model = tf.keras.models.Sequential()\n",
    "model.add(tf.keras.layers.Dense(8,activation='relu', input_shape=(6,)))\n",
    "model.add(tf.keras.layers.Dense(4, activation='softmax'))"
   ]
  },
  {
   "cell_type": "markdown",
   "metadata": {
    "id": "aOdbPSxVIOdk"
   },
   "source": [
    "**To Compile the model**"
   ]
  },
  {
   "cell_type": "code",
   "execution_count": 20,
   "metadata": {
    "id": "TArix_HIHsoF"
   },
   "outputs": [],
   "source": [
    "model.compile(optimizer = 'adam', loss = 'sparse_categorical_crossentropy', metrics = 'accuracy')"
   ]
  },
  {
   "cell_type": "markdown",
   "metadata": {
    "id": "5Xs0-7CKItdz"
   },
   "source": [
    "**To view the summary of the Neural Network**\n"
   ]
  },
  {
   "cell_type": "code",
   "execution_count": 21,
   "metadata": {
    "colab": {
     "base_uri": "https://localhost:8080/"
    },
    "id": "jo2y3HYAI39Z",
    "outputId": "2d264f9b-f723-4bde-f3f1-9ea86eacbfc6"
   },
   "outputs": [
    {
     "name": "stdout",
     "output_type": "stream",
     "text": [
      "Model: \"sequential\"\n",
      "_________________________________________________________________\n",
      " Layer (type)                Output Shape              Param #   \n",
      "=================================================================\n",
      " dense (Dense)               (None, 8)                 56        \n",
      "                                                                 \n",
      " dense_1 (Dense)             (None, 4)                 36        \n",
      "                                                                 \n",
      "=================================================================\n",
      "Total params: 92\n",
      "Trainable params: 92\n",
      "Non-trainable params: 0\n",
      "_________________________________________________________________\n"
     ]
    }
   ],
   "source": [
    "model.summary()"
   ]
  },
  {
   "cell_type": "code",
   "execution_count": null,
   "metadata": {
    "id": "uk2tMVl_I8ZX"
   },
   "outputs": [],
   "source": []
  },
  {
   "cell_type": "code",
   "execution_count": 22,
   "metadata": {
    "colab": {
     "base_uri": "https://localhost:8080/"
    },
    "id": "RFVmzHgrAbmT",
    "outputId": "ece6d791-e427-43ba-b828-8ea8c2692f25"
   },
   "outputs": [
    {
     "name": "stdout",
     "output_type": "stream",
     "text": [
      "Epoch 1/50\n",
      "106/106 - 1s - loss: 3.7369 - accuracy: 0.4314 - val_loss: 1.1769 - val_accuracy: 0.5455 - 1s/epoch - 10ms/step\n",
      "Epoch 2/50\n",
      "106/106 - 0s - loss: 3.4331 - accuracy: 0.5579 - val_loss: 1.0676 - val_accuracy: 0.6584 - 208ms/epoch - 2ms/step\n",
      "Epoch 3/50\n",
      "106/106 - 0s - loss: 3.1949 - accuracy: 0.6182 - val_loss: 0.9636 - val_accuracy: 0.7025 - 215ms/epoch - 2ms/step\n",
      "Epoch 4/50\n",
      "106/106 - 0s - loss: 2.9808 - accuracy: 0.6548 - val_loss: 0.8738 - val_accuracy: 0.7410 - 205ms/epoch - 2ms/step\n",
      "Epoch 5/50\n",
      "106/106 - 0s - loss: 2.7922 - accuracy: 0.6868 - val_loss: 0.8040 - val_accuracy: 0.7631 - 200ms/epoch - 2ms/step\n",
      "Epoch 6/50\n",
      "106/106 - 0s - loss: 2.6364 - accuracy: 0.7057 - val_loss: 0.7439 - val_accuracy: 0.7741 - 212ms/epoch - 2ms/step\n",
      "Epoch 7/50\n",
      "106/106 - 0s - loss: 2.4912 - accuracy: 0.7293 - val_loss: 0.6986 - val_accuracy: 0.7824 - 196ms/epoch - 2ms/step\n",
      "Epoch 8/50\n",
      "106/106 - 0s - loss: 2.3623 - accuracy: 0.7470 - val_loss: 0.6611 - val_accuracy: 0.7824 - 197ms/epoch - 2ms/step\n",
      "Epoch 9/50\n",
      "106/106 - 0s - loss: 2.2412 - accuracy: 0.7530 - val_loss: 0.6339 - val_accuracy: 0.7961 - 216ms/epoch - 2ms/step\n",
      "Epoch 10/50\n",
      "106/106 - 0s - loss: 2.1252 - accuracy: 0.7600 - val_loss: 0.6090 - val_accuracy: 0.7989 - 195ms/epoch - 2ms/step\n",
      "Epoch 11/50\n",
      "106/106 - 0s - loss: 2.0219 - accuracy: 0.7707 - val_loss: 0.5887 - val_accuracy: 0.7934 - 205ms/epoch - 2ms/step\n",
      "Epoch 12/50\n",
      "106/106 - 0s - loss: 1.9217 - accuracy: 0.7790 - val_loss: 0.5679 - val_accuracy: 0.7934 - 212ms/epoch - 2ms/step\n",
      "Epoch 13/50\n",
      "106/106 - 0s - loss: 1.8229 - accuracy: 0.7766 - val_loss: 0.5567 - val_accuracy: 0.7796 - 187ms/epoch - 2ms/step\n",
      "Epoch 14/50\n",
      "106/106 - 0s - loss: 1.7372 - accuracy: 0.7778 - val_loss: 0.5414 - val_accuracy: 0.7769 - 249ms/epoch - 2ms/step\n",
      "Epoch 15/50\n",
      "106/106 - 0s - loss: 1.6584 - accuracy: 0.7778 - val_loss: 0.5259 - val_accuracy: 0.7824 - 229ms/epoch - 2ms/step\n",
      "Epoch 16/50\n",
      "106/106 - 0s - loss: 1.5938 - accuracy: 0.7861 - val_loss: 0.5159 - val_accuracy: 0.7851 - 214ms/epoch - 2ms/step\n",
      "Epoch 17/50\n",
      "106/106 - 0s - loss: 1.5294 - accuracy: 0.7801 - val_loss: 0.5029 - val_accuracy: 0.7851 - 283ms/epoch - 3ms/step\n",
      "Epoch 18/50\n",
      "106/106 - 0s - loss: 1.4732 - accuracy: 0.7920 - val_loss: 0.4918 - val_accuracy: 0.7851 - 240ms/epoch - 2ms/step\n",
      "Epoch 19/50\n",
      "106/106 - 0s - loss: 1.4151 - accuracy: 0.7896 - val_loss: 0.4798 - val_accuracy: 0.7934 - 225ms/epoch - 2ms/step\n",
      "Epoch 20/50\n",
      "106/106 - 0s - loss: 1.3662 - accuracy: 0.8002 - val_loss: 0.4696 - val_accuracy: 0.8017 - 281ms/epoch - 3ms/step\n",
      "Epoch 21/50\n",
      "106/106 - 0s - loss: 1.3182 - accuracy: 0.8038 - val_loss: 0.4599 - val_accuracy: 0.8072 - 241ms/epoch - 2ms/step\n",
      "Epoch 22/50\n",
      "106/106 - 0s - loss: 1.2788 - accuracy: 0.8061 - val_loss: 0.4472 - val_accuracy: 0.8154 - 255ms/epoch - 2ms/step\n",
      "Epoch 23/50\n",
      "106/106 - 0s - loss: 1.2404 - accuracy: 0.8061 - val_loss: 0.4383 - val_accuracy: 0.8182 - 305ms/epoch - 3ms/step\n",
      "Epoch 24/50\n",
      "106/106 - 0s - loss: 1.2031 - accuracy: 0.8180 - val_loss: 0.4333 - val_accuracy: 0.8209 - 237ms/epoch - 2ms/step\n",
      "Epoch 25/50\n",
      "106/106 - 0s - loss: 1.1698 - accuracy: 0.8180 - val_loss: 0.4228 - val_accuracy: 0.8292 - 222ms/epoch - 2ms/step\n",
      "Epoch 26/50\n",
      "106/106 - 0s - loss: 1.1383 - accuracy: 0.8203 - val_loss: 0.4170 - val_accuracy: 0.8292 - 261ms/epoch - 2ms/step\n",
      "Epoch 27/50\n",
      "106/106 - 0s - loss: 1.1084 - accuracy: 0.8262 - val_loss: 0.4112 - val_accuracy: 0.8237 - 213ms/epoch - 2ms/step\n",
      "Epoch 28/50\n",
      "106/106 - 0s - loss: 1.0813 - accuracy: 0.8322 - val_loss: 0.4010 - val_accuracy: 0.8237 - 219ms/epoch - 2ms/step\n",
      "Epoch 29/50\n",
      "106/106 - 0s - loss: 1.0603 - accuracy: 0.8381 - val_loss: 0.3961 - val_accuracy: 0.8264 - 209ms/epoch - 2ms/step\n",
      "Epoch 30/50\n",
      "106/106 - 0s - loss: 1.0294 - accuracy: 0.8381 - val_loss: 0.3874 - val_accuracy: 0.8292 - 241ms/epoch - 2ms/step\n",
      "Epoch 31/50\n",
      "106/106 - 0s - loss: 1.0050 - accuracy: 0.8428 - val_loss: 0.3834 - val_accuracy: 0.8320 - 210ms/epoch - 2ms/step\n",
      "Epoch 32/50\n",
      "106/106 - 0s - loss: 0.9840 - accuracy: 0.8522 - val_loss: 0.3779 - val_accuracy: 0.8292 - 190ms/epoch - 2ms/step\n",
      "Epoch 33/50\n",
      "106/106 - 0s - loss: 0.9593 - accuracy: 0.8511 - val_loss: 0.3728 - val_accuracy: 0.8375 - 225ms/epoch - 2ms/step\n",
      "Epoch 34/50\n",
      "106/106 - 0s - loss: 0.9394 - accuracy: 0.8558 - val_loss: 0.3603 - val_accuracy: 0.8375 - 225ms/epoch - 2ms/step\n",
      "Epoch 35/50\n",
      "106/106 - 0s - loss: 0.9199 - accuracy: 0.8641 - val_loss: 0.3528 - val_accuracy: 0.8402 - 211ms/epoch - 2ms/step\n",
      "Epoch 36/50\n",
      "106/106 - 0s - loss: 0.8994 - accuracy: 0.8664 - val_loss: 0.3536 - val_accuracy: 0.8430 - 238ms/epoch - 2ms/step\n",
      "Epoch 37/50\n",
      "106/106 - 0s - loss: 0.8837 - accuracy: 0.8641 - val_loss: 0.3489 - val_accuracy: 0.8402 - 240ms/epoch - 2ms/step\n",
      "Epoch 38/50\n",
      "106/106 - 0s - loss: 0.8632 - accuracy: 0.8605 - val_loss: 0.3428 - val_accuracy: 0.8485 - 246ms/epoch - 2ms/step\n",
      "Epoch 39/50\n",
      "106/106 - 0s - loss: 0.8469 - accuracy: 0.8664 - val_loss: 0.3341 - val_accuracy: 0.8567 - 232ms/epoch - 2ms/step\n",
      "Epoch 40/50\n",
      "106/106 - 0s - loss: 0.8305 - accuracy: 0.8759 - val_loss: 0.3274 - val_accuracy: 0.8540 - 243ms/epoch - 2ms/step\n",
      "Epoch 41/50\n",
      "106/106 - 0s - loss: 0.8149 - accuracy: 0.8712 - val_loss: 0.3235 - val_accuracy: 0.8567 - 232ms/epoch - 2ms/step\n",
      "Epoch 42/50\n",
      "106/106 - 0s - loss: 0.7977 - accuracy: 0.8759 - val_loss: 0.3230 - val_accuracy: 0.8595 - 230ms/epoch - 2ms/step\n",
      "Epoch 43/50\n",
      "106/106 - 0s - loss: 0.7852 - accuracy: 0.8771 - val_loss: 0.3193 - val_accuracy: 0.8595 - 223ms/epoch - 2ms/step\n",
      "Epoch 44/50\n",
      "106/106 - 0s - loss: 0.7679 - accuracy: 0.8806 - val_loss: 0.3146 - val_accuracy: 0.8623 - 245ms/epoch - 2ms/step\n",
      "Epoch 45/50\n",
      "106/106 - 0s - loss: 0.7530 - accuracy: 0.8853 - val_loss: 0.3088 - val_accuracy: 0.8678 - 234ms/epoch - 2ms/step\n",
      "Epoch 46/50\n",
      "106/106 - 0s - loss: 0.7446 - accuracy: 0.8818 - val_loss: 0.3067 - val_accuracy: 0.8705 - 240ms/epoch - 2ms/step\n",
      "Epoch 47/50\n",
      "106/106 - 0s - loss: 0.7269 - accuracy: 0.8889 - val_loss: 0.3006 - val_accuracy: 0.8705 - 233ms/epoch - 2ms/step\n",
      "Epoch 48/50\n",
      "106/106 - 0s - loss: 0.7159 - accuracy: 0.8865 - val_loss: 0.2988 - val_accuracy: 0.8678 - 228ms/epoch - 2ms/step\n",
      "Epoch 49/50\n",
      "106/106 - 0s - loss: 0.7035 - accuracy: 0.8877 - val_loss: 0.2912 - val_accuracy: 0.8678 - 213ms/epoch - 2ms/step\n",
      "Epoch 50/50\n",
      "106/106 - 0s - loss: 0.6898 - accuracy: 0.8877 - val_loss: 0.2896 - val_accuracy: 0.8733 - 235ms/epoch - 2ms/step\n"
     ]
    }
   ],
   "source": [
    "class_weights = {0:1, 1:3, 2:18, 3:19}\n",
    "\n",
    "history = model.fit(X_train, y_train, batch_size = 8, epochs = 50, verbose = 2, class_weight = class_weights, validation_split = 0.3)"
   ]
  },
  {
   "cell_type": "code",
   "execution_count": 23,
   "metadata": {
    "colab": {
     "base_uri": "https://localhost:8080/",
     "height": 298
    },
    "id": "n5ffQXsMU1PF",
    "outputId": "5a861bac-2037-430c-a618-7f15fe56dd8e"
   },
   "outputs": [
    {
     "data": {
      "text/plain": [
       "<matplotlib.legend.Legend at 0x14ed8b04f70>"
      ]
     },
     "execution_count": 23,
     "metadata": {},
     "output_type": "execute_result"
    },
    {
     "data": {
      "image/png": "[encoded data removed]",
      "text/plain": [
       "<Figure size 432x288 with 1 Axes>"
      ]
     },
     "metadata": {
      "needs_background": "light"
     },
     "output_type": "display_data"
    }
   ],
   "source": [
    "accuracy = history.history['accuracy']\n",
    "validation_accuracy = history.history['val_accuracy']\n",
    "\n",
    "plt.plot(accuracy, label = 'Training Set Accuracy')\n",
    "plt.plot(validation_accuracy, label = 'Validation Set Accuracy')\n",
    "plt.ylabel('Accuracy')\n",
    "plt.ylim([min(plt.ylim()),1])\n",
    "plt.title('Training and Validation Accuracy Across Epochs')\n",
    "plt.legend()"
   ]
  },
  {
   "cell_type": "code",
   "execution_count": 24,
   "metadata": {
    "colab": {
     "base_uri": "https://localhost:8080/",
     "height": 298
    },
    "id": "Czq0DhFQWSMT",
    "outputId": "c6ce3365-d286-4bd7-836a-ae97e6b9c9d0"
   },
   "outputs": [
    {
     "data": {
      "text/plain": [
       "<function matplotlib.pyplot.legend(*args, **kwargs)>"
      ]
     },
     "execution_count": 24,
     "metadata": {},
     "output_type": "execute_result"
    },
    {
     "data": {
      "image/png": "[encoded data removed]",
      "text/plain": [
       "<Figure size 432x288 with 1 Axes>"
      ]
     },
     "metadata": {
      "needs_background": "light"
     },
     "output_type": "display_data"
    }
   ],
   "source": [
    "loss = history.history['loss']\n",
    "validation_loss = history.history['val_loss']\n",
    "\n",
    "plt.plot(loss, label = 'Training Set Loss')\n",
    "plt.plot(validation_loss, label = 'Validation Set Loss')\n",
    "plt.ylabel('Loss')\n",
    "plt.title('Training and Validation Accuacy Across Epochs')\n",
    "plt.legend"
   ]
  },
  {
   "cell_type": "code",
   "execution_count": 25,
   "metadata": {
    "id": "holw6Z8cWUNy"
   },
   "outputs": [],
   "source": [
    "from sklearn.metrics import confusion_matrix, classification_report"
   ]
  },
  {
   "cell_type": "code",
   "execution_count": 26,
   "metadata": {
    "colab": {
     "base_uri": "https://localhost:8080/"
    },
    "id": "TyhWH5oFWl6w",
    "outputId": "d02cbdf9-fbad-4ea9-b304-fb75f302188a"
   },
   "outputs": [
    {
     "name": "stdout",
     "output_type": "stream",
     "text": [
      "17/17 [==============================] - 0s 1ms/step\n"
     ]
    }
   ],
   "source": [
    "y_pred = model.predict(X_test)\n",
    "y_pred = y_pred.argmax(axis = 1)"
   ]
  },
  {
   "cell_type": "code",
   "execution_count": 27,
   "metadata": {
    "colab": {
     "base_uri": "https://localhost:8080/",
     "height": 315
    },
    "id": "TfatzVytWr3e",
    "outputId": "d0d8438a-3053-4352-fac8-9c0e5d0b7bb5"
   },
   "outputs": [
    {
     "data": {
      "text/plain": [
       "<function matplotlib.pyplot.show(close=None, block=None)>"
      ]
     },
     "execution_count": 27,
     "metadata": {},
     "output_type": "execute_result"
    },
    {
     "data": {
      "image/png": "[encoded data removed]",
      "text/plain": [
       "<Figure size 432x288 with 2 Axes>"
      ]
     },
     "metadata": {
      "needs_background": "light"
     },
     "output_type": "display_data"
    }
   ],
   "source": [
    "confusion_matrix = confusion_matrix(y_test, y_pred)\n",
    "\n",
    "ax = sns.heatmap(confusion_matrix, cmap='flare', annot=True, fmt='d')\n",
    "\n",
    "plt.xlabel('Predicted Class', fontsize=12)\n",
    "plt.ylabel('True Class', fontsize=12)\n",
    "plt.title('Confusion Matris', fontsize = 12)\n",
    "\n",
    "plt.show"
   ]
  },
  {
   "cell_type": "code",
   "execution_count": 28,
   "metadata": {
    "colab": {
     "base_uri": "https://localhost:8080/"
    },
    "id": "QzNtITv3XEIg",
    "outputId": "c9ee456c-6fab-47a1-fea0-988528bfdf74"
   },
   "outputs": [
    {
     "name": "stdout",
     "output_type": "stream",
     "text": [
      "              precision    recall  f1-score   support\n",
      "\n",
      "           0       0.98      0.91      0.95       363\n",
      "           1       0.77      0.85      0.81       115\n",
      "           2       0.68      0.90      0.78        21\n",
      "           3       0.74      1.00      0.85        20\n",
      "\n",
      "    accuracy                           0.90       519\n",
      "   macro avg       0.79      0.92      0.85       519\n",
      "weighted avg       0.91      0.90      0.91       519\n",
      "\n"
     ]
    }
   ],
   "source": [
    "print(classification_report(y_test, y_pred))"
   ]
  },
  {
   "cell_type": "code",
   "execution_count": null,
   "metadata": {},
   "outputs": [],
   "source": []
  }
 ],
 "metadata": {
  "accelerator": "GPU",
  "colab": {
   "provenance": []
  },
  "gpuClass": "standard",
  "kernelspec": {
   "display_name": "Python 3 (ipykernel)",
   "language": "python",
   "name": "python3"
  },
  "language_info": {
   "codemirror_mode": {
    "name": "ipython",
    "version": 3
   },
   "file_extension": ".py",
   "mimetype": "text/x-python",
   "name": "python",
   "nbconvert_exporter": "python",
   "pygments_lexer": "ipython3",
   "version": "3.9.12"
  }
 },
 "nbformat": 4,
 "nbformat_minor": 1
}

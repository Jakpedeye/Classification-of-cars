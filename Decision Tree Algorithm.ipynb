{
 "cells": [
  {
   "cell_type": "code",
   "execution_count": 1,
   "id": "2903e1dd",
   "metadata": {},
   "outputs": [],
   "source": [
    "#Importing Library\n",
    "import numpy as np\n",
    "import pandas as pd\n",
    "import matplotlib.pyplot as plt\n",
    "import sklearn as sk\n",
    "import seaborn as sns"
   ]
  },
  {
   "cell_type": "code",
   "execution_count": 2,
   "id": "a88c5f1a",
   "metadata": {},
   "outputs": [],
   "source": [
    "#Loading the dataset\n",
    "car_data = pd.read_csv('car.csv', names = ['Buying_Price', 'Maintenance_Price',\n",
    "                                           'Number_Of_Doors', 'Number_Of_Persons',\n",
    "                                           'Boot_Size', 'Safety', 'Acceptability'])"
   ]
  },
  {
   "cell_type": "code",
   "execution_count": 3,
   "id": "11f6845e",
   "metadata": {},
   "outputs": [
    {
     "data": {
      "text/html": [
       "<div>\n",
       "<style scoped>\n",
       "    .dataframe tbody tr th:only-of-type {\n",
       "        vertical-align: middle;\n",
       "    }\n",
       "\n",
       "    .dataframe tbody tr th {\n",
       "        vertical-align: top;\n",
       "    }\n",
       "\n",
       "    .dataframe thead th {\n",
       "        text-align: right;\n",
       "    }\n",
       "</style>\n",
       "<table border=\"1\" class=\"dataframe\">\n",
       "  <thead>\n",
       "    <tr style=\"text-align: right;\">\n",
       "      <th></th>\n",
       "      <th>Buying_Price</th>\n",
       "      <th>Maintenance_Price</th>\n",
       "      <th>Number_Of_Doors</th>\n",
       "      <th>Number_Of_Persons</th>\n",
       "      <th>Boot_Size</th>\n",
       "      <th>Safety</th>\n",
       "      <th>Acceptability</th>\n",
       "    </tr>\n",
       "  </thead>\n",
       "  <tbody>\n",
       "    <tr>\n",
       "      <th>0</th>\n",
       "      <td>vhigh</td>\n",
       "      <td>vhigh</td>\n",
       "      <td>2</td>\n",
       "      <td>2</td>\n",
       "      <td>small</td>\n",
       "      <td>low</td>\n",
       "      <td>unacc</td>\n",
       "    </tr>\n",
       "    <tr>\n",
       "      <th>1</th>\n",
       "      <td>vhigh</td>\n",
       "      <td>vhigh</td>\n",
       "      <td>2</td>\n",
       "      <td>2</td>\n",
       "      <td>small</td>\n",
       "      <td>med</td>\n",
       "      <td>unacc</td>\n",
       "    </tr>\n",
       "    <tr>\n",
       "      <th>2</th>\n",
       "      <td>vhigh</td>\n",
       "      <td>vhigh</td>\n",
       "      <td>2</td>\n",
       "      <td>2</td>\n",
       "      <td>small</td>\n",
       "      <td>high</td>\n",
       "      <td>unacc</td>\n",
       "    </tr>\n",
       "    <tr>\n",
       "      <th>3</th>\n",
       "      <td>vhigh</td>\n",
       "      <td>vhigh</td>\n",
       "      <td>2</td>\n",
       "      <td>2</td>\n",
       "      <td>med</td>\n",
       "      <td>low</td>\n",
       "      <td>unacc</td>\n",
       "    </tr>\n",
       "    <tr>\n",
       "      <th>4</th>\n",
       "      <td>vhigh</td>\n",
       "      <td>vhigh</td>\n",
       "      <td>2</td>\n",
       "      <td>2</td>\n",
       "      <td>med</td>\n",
       "      <td>med</td>\n",
       "      <td>unacc</td>\n",
       "    </tr>\n",
       "    <tr>\n",
       "      <th>...</th>\n",
       "      <td>...</td>\n",
       "      <td>...</td>\n",
       "      <td>...</td>\n",
       "      <td>...</td>\n",
       "      <td>...</td>\n",
       "      <td>...</td>\n",
       "      <td>...</td>\n",
       "    </tr>\n",
       "    <tr>\n",
       "      <th>1723</th>\n",
       "      <td>low</td>\n",
       "      <td>low</td>\n",
       "      <td>5more</td>\n",
       "      <td>more</td>\n",
       "      <td>med</td>\n",
       "      <td>med</td>\n",
       "      <td>good</td>\n",
       "    </tr>\n",
       "    <tr>\n",
       "      <th>1724</th>\n",
       "      <td>low</td>\n",
       "      <td>low</td>\n",
       "      <td>5more</td>\n",
       "      <td>more</td>\n",
       "      <td>med</td>\n",
       "      <td>high</td>\n",
       "      <td>vgood</td>\n",
       "    </tr>\n",
       "    <tr>\n",
       "      <th>1725</th>\n",
       "      <td>low</td>\n",
       "      <td>low</td>\n",
       "      <td>5more</td>\n",
       "      <td>more</td>\n",
       "      <td>big</td>\n",
       "      <td>low</td>\n",
       "      <td>unacc</td>\n",
       "    </tr>\n",
       "    <tr>\n",
       "      <th>1726</th>\n",
       "      <td>low</td>\n",
       "      <td>low</td>\n",
       "      <td>5more</td>\n",
       "      <td>more</td>\n",
       "      <td>big</td>\n",
       "      <td>med</td>\n",
       "      <td>good</td>\n",
       "    </tr>\n",
       "    <tr>\n",
       "      <th>1727</th>\n",
       "      <td>low</td>\n",
       "      <td>low</td>\n",
       "      <td>5more</td>\n",
       "      <td>more</td>\n",
       "      <td>big</td>\n",
       "      <td>high</td>\n",
       "      <td>vgood</td>\n",
       "    </tr>\n",
       "  </tbody>\n",
       "</table>\n",
       "<p>1728 rows × 7 columns</p>\n",
       "</div>"
      ],
      "text/plain": [
       "     Buying_Price Maintenance_Price Number_Of_Doors Number_Of_Persons  \\\n",
       "0           vhigh             vhigh               2                 2   \n",
       "1           vhigh             vhigh               2                 2   \n",
       "2           vhigh             vhigh               2                 2   \n",
       "3           vhigh             vhigh               2                 2   \n",
       "4           vhigh             vhigh               2                 2   \n",
       "...           ...               ...             ...               ...   \n",
       "1723          low               low           5more              more   \n",
       "1724          low               low           5more              more   \n",
       "1725          low               low           5more              more   \n",
       "1726          low               low           5more              more   \n",
       "1727          low               low           5more              more   \n",
       "\n",
       "     Boot_Size Safety Acceptability  \n",
       "0        small    low         unacc  \n",
       "1        small    med         unacc  \n",
       "2        small   high         unacc  \n",
       "3          med    low         unacc  \n",
       "4          med    med         unacc  \n",
       "...        ...    ...           ...  \n",
       "1723       med    med          good  \n",
       "1724       med   high         vgood  \n",
       "1725       big    low         unacc  \n",
       "1726       big    med          good  \n",
       "1727       big   high         vgood  \n",
       "\n",
       "[1728 rows x 7 columns]"
      ]
     },
     "execution_count": 3,
     "metadata": {},
     "output_type": "execute_result"
    }
   ],
   "source": [
    "#Exploring the data\n",
    "#Viewing the table\n",
    "car_data"
   ]
  },
  {
   "cell_type": "code",
   "execution_count": 4,
   "id": "09721f3b",
   "metadata": {},
   "outputs": [
    {
     "name": "stdout",
     "output_type": "stream",
     "text": [
      "<class 'pandas.core.frame.DataFrame'>\n",
      "RangeIndex: 1728 entries, 0 to 1727\n",
      "Data columns (total 7 columns):\n",
      " #   Column             Non-Null Count  Dtype \n",
      "---  ------             --------------  ----- \n",
      " 0   Buying_Price       1728 non-null   object\n",
      " 1   Maintenance_Price  1728 non-null   object\n",
      " 2   Number_Of_Doors    1728 non-null   object\n",
      " 3   Number_Of_Persons  1728 non-null   object\n",
      " 4   Boot_Size          1728 non-null   object\n",
      " 5   Safety             1728 non-null   object\n",
      " 6   Acceptability      1728 non-null   object\n",
      "dtypes: object(7)\n",
      "memory usage: 94.6+ KB\n"
     ]
    }
   ],
   "source": [
    "#Checking the information of the data\n",
    "car_data.info()"
   ]
  },
  {
   "cell_type": "code",
   "execution_count": 5,
   "id": "a2a97032",
   "metadata": {},
   "outputs": [
    {
     "data": {
      "text/plain": [
       "(1728, 7)"
      ]
     },
     "execution_count": 5,
     "metadata": {},
     "output_type": "execute_result"
    }
   ],
   "source": [
    "#checking the shape of the data\n",
    "car_data.shape"
   ]
  },
  {
   "cell_type": "code",
   "execution_count": 6,
   "id": "c273b931",
   "metadata": {},
   "outputs": [
    {
     "data": {
      "text/html": [
       "<div>\n",
       "<style scoped>\n",
       "    .dataframe tbody tr th:only-of-type {\n",
       "        vertical-align: middle;\n",
       "    }\n",
       "\n",
       "    .dataframe tbody tr th {\n",
       "        vertical-align: top;\n",
       "    }\n",
       "\n",
       "    .dataframe thead th {\n",
       "        text-align: right;\n",
       "    }\n",
       "</style>\n",
       "<table border=\"1\" class=\"dataframe\">\n",
       "  <thead>\n",
       "    <tr style=\"text-align: right;\">\n",
       "      <th></th>\n",
       "      <th>Buying_Price</th>\n",
       "      <th>Maintenance_Price</th>\n",
       "      <th>Number_Of_Doors</th>\n",
       "      <th>Number_Of_Persons</th>\n",
       "      <th>Boot_Size</th>\n",
       "      <th>Safety</th>\n",
       "      <th>Acceptability</th>\n",
       "    </tr>\n",
       "  </thead>\n",
       "  <tbody>\n",
       "    <tr>\n",
       "      <th>count</th>\n",
       "      <td>1728</td>\n",
       "      <td>1728</td>\n",
       "      <td>1728</td>\n",
       "      <td>1728</td>\n",
       "      <td>1728</td>\n",
       "      <td>1728</td>\n",
       "      <td>1728</td>\n",
       "    </tr>\n",
       "    <tr>\n",
       "      <th>unique</th>\n",
       "      <td>4</td>\n",
       "      <td>4</td>\n",
       "      <td>4</td>\n",
       "      <td>3</td>\n",
       "      <td>3</td>\n",
       "      <td>3</td>\n",
       "      <td>4</td>\n",
       "    </tr>\n",
       "    <tr>\n",
       "      <th>top</th>\n",
       "      <td>vhigh</td>\n",
       "      <td>vhigh</td>\n",
       "      <td>2</td>\n",
       "      <td>2</td>\n",
       "      <td>small</td>\n",
       "      <td>low</td>\n",
       "      <td>unacc</td>\n",
       "    </tr>\n",
       "    <tr>\n",
       "      <th>freq</th>\n",
       "      <td>432</td>\n",
       "      <td>432</td>\n",
       "      <td>432</td>\n",
       "      <td>576</td>\n",
       "      <td>576</td>\n",
       "      <td>576</td>\n",
       "      <td>1210</td>\n",
       "    </tr>\n",
       "  </tbody>\n",
       "</table>\n",
       "</div>"
      ],
      "text/plain": [
       "       Buying_Price Maintenance_Price Number_Of_Doors Number_Of_Persons  \\\n",
       "count          1728              1728            1728              1728   \n",
       "unique            4                 4               4                 3   \n",
       "top           vhigh             vhigh               2                 2   \n",
       "freq            432               432             432               576   \n",
       "\n",
       "       Boot_Size Safety Acceptability  \n",
       "count       1728   1728          1728  \n",
       "unique         3      3             4  \n",
       "top        small    low         unacc  \n",
       "freq         576    576          1210  "
      ]
     },
     "execution_count": 6,
     "metadata": {},
     "output_type": "execute_result"
    }
   ],
   "source": [
    "car_data.describe()"
   ]
  },
  {
   "cell_type": "code",
   "execution_count": 7,
   "id": "7b9f6477",
   "metadata": {},
   "outputs": [
    {
     "data": {
      "text/plain": [
       "Buying_Price         False\n",
       "Maintenance_Price    False\n",
       "Number_Of_Doors      False\n",
       "Number_Of_Persons    False\n",
       "Boot_Size            False\n",
       "Safety               False\n",
       "Acceptability        False\n",
       "dtype: bool"
      ]
     },
     "execution_count": 7,
     "metadata": {},
     "output_type": "execute_result"
    }
   ],
   "source": [
    "#Checking for null values\n",
    "car_data.isnull().any()"
   ]
  },
  {
   "cell_type": "code",
   "execution_count": 8,
   "id": "2e5fe55d",
   "metadata": {
    "scrolled": true
   },
   "outputs": [
    {
     "name": "stdout",
     "output_type": "stream",
     "text": [
      "Buying_Price (4) :\n",
      "vhigh    432\n",
      "high     432\n",
      "med      432\n",
      "low      432\n",
      "Name: Buying_Price, dtype: int64\n",
      "Maintenance_Price (4) :\n",
      "vhigh    432\n",
      "high     432\n",
      "med      432\n",
      "low      432\n",
      "Name: Maintenance_Price, dtype: int64\n",
      "Number_Of_Doors (4) :\n",
      "2        432\n",
      "3        432\n",
      "4        432\n",
      "5more    432\n",
      "Name: Number_Of_Doors, dtype: int64\n",
      "Number_Of_Persons (3) :\n",
      "2       576\n",
      "4       576\n",
      "more    576\n",
      "Name: Number_Of_Persons, dtype: int64\n",
      "Boot_Size (3) :\n",
      "small    576\n",
      "med      576\n",
      "big      576\n",
      "Name: Boot_Size, dtype: int64\n",
      "Safety (3) :\n",
      "low     576\n",
      "med     576\n",
      "high    576\n",
      "Name: Safety, dtype: int64\n",
      "Acceptability (4) :\n",
      "unacc    1210\n",
      "acc       384\n",
      "good       69\n",
      "vgood      65\n",
      "Name: Acceptability, dtype: int64\n"
     ]
    }
   ],
   "source": [
    "#Checking the number of unique features in the data\n",
    "for col in car_data:\n",
    "    print(col, '({})'.format(car_data[col].nunique()), ':')\n",
    "    print(car_data[col].value_counts())"
   ]
  },
  {
   "cell_type": "code",
   "execution_count": 9,
   "id": "b1b886ba",
   "metadata": {
    "scrolled": true
   },
   "outputs": [
    {
     "name": "stdout",
     "output_type": "stream",
     "text": [
      "graph for Buying_Price: total - 4\n"
     ]
    },
    {
     "data": {
      "image/png": "[encoded data removed]",
      "text/plain": [
       "<Figure size 432x288 with 1 Axes>"
      ]
     },
     "metadata": {
      "needs_background": "light"
     },
     "output_type": "display_data"
    },
    {
     "name": "stdout",
     "output_type": "stream",
     "text": [
      "graph for Maintenance_Price: total - 4\n"
     ]
    },
    {
     "data": {
      "image/png": "[encoded data removed]",
      "text/plain": [
       "<Figure size 432x288 with 1 Axes>"
      ]
     },
     "metadata": {
      "needs_background": "light"
     },
     "output_type": "display_data"
    },
    {
     "name": "stdout",
     "output_type": "stream",
     "text": [
      "graph for Number_Of_Doors: total - 4\n"
     ]
    },
    {
     "data": {
      "image/png": "[encoded data removed]",
      "text/plain": [
       "<Figure size 432x288 with 1 Axes>"
      ]
     },
     "metadata": {
      "needs_background": "light"
     },
     "output_type": "display_data"
    },
    {
     "name": "stdout",
     "output_type": "stream",
     "text": [
      "graph for Number_Of_Persons: total - 3\n"
     ]
    },
    {
     "data": {
      "image/png": "[encoded data removed]",
      "text/plain": [
       "<Figure size 432x288 with 1 Axes>"
      ]
     },
     "metadata": {
      "needs_background": "light"
     },
     "output_type": "display_data"
    },
    {
     "name": "stdout",
     "output_type": "stream",
     "text": [
      "graph for Boot_Size: total - 3\n"
     ]
    },
    {
     "data": {
      "image/png": "[encoded data removed]",
      "text/plain": [
       "<Figure size 432x288 with 1 Axes>"
      ]
     },
     "metadata": {
      "needs_background": "light"
     },
     "output_type": "display_data"
    },
    {
     "name": "stdout",
     "output_type": "stream",
     "text": [
      "graph for Safety: total - 3\n"
     ]
    },
    {
     "data": {
      "image/png": "[encoded data removed]",
      "text/plain": [
       "<Figure size 432x288 with 1 Axes>"
      ]
     },
     "metadata": {
      "needs_background": "light"
     },
     "output_type": "display_data"
    },
    {
     "name": "stdout",
     "output_type": "stream",
     "text": [
      "graph for Acceptability: total - 4\n"
     ]
    },
    {
     "data": {
      "image/png": "[encoded data removed]",
      "text/plain": [
       "<Figure size 432x288 with 1 Axes>"
      ]
     },
     "metadata": {
      "needs_background": "light"
     },
     "output_type": "display_data"
    }
   ],
   "source": [
    "#Visualizing the different features\n",
    "for i in car_data:\n",
    "    car_num = car_data[i].value_counts()\n",
    "    print('graph for %s: total - %d' % (i, len(car_num)))\n",
    "    chart = sns.barplot(x=car_num.index, y=car_num)\n",
    "    chart.set_xticklabels(chart.get_xticklabels())\n",
    "    plt.show()"
   ]
  },
  {
   "cell_type": "code",
   "execution_count": 10,
   "id": "d0fbd5c9",
   "metadata": {},
   "outputs": [],
   "source": [
    "car_dataEnc = car_data\n",
    "car_dataEnc['Acceptability'] = car_data['Acceptability'].replace(['unacc', 'acc', 'good', 'vgood'], [0,1,2,3])\n",
    "car_dataEnc['Buying_Price'] = car_data['Buying_Price'].replace(['vhigh', 'high', 'med', 'low'], [3,2,1,0])\n",
    "car_dataEnc['Maintenance_Price'] = car_data['Maintenance_Price'].replace(['vhigh', 'high', 'med', 'low'], [3,2,1,0])\n",
    "car_dataEnc['Number_Of_Doors'] = car_data['Number_Of_Doors'].replace(['2', '3', '4', '5more'], [0,1,2,3])\n",
    "car_dataEnc['Number_Of_Persons'] = car_data['Number_Of_Persons'].replace(['2', '4', 'more'], [0,1,2])\n",
    "car_dataEnc['Boot_Size'] = car_data['Boot_Size'].replace(['small', 'med', 'big'], [0,1,2])\n",
    "car_dataEnc['Safety'] = car_data['Safety'].replace(['low', 'med', 'high'], [0,1,2])"
   ]
  },
  {
   "cell_type": "code",
   "execution_count": 11,
   "id": "81d0bc2f",
   "metadata": {},
   "outputs": [
    {
     "data": {
      "text/html": [
       "<div>\n",
       "<style scoped>\n",
       "    .dataframe tbody tr th:only-of-type {\n",
       "        vertical-align: middle;\n",
       "    }\n",
       "\n",
       "    .dataframe tbody tr th {\n",
       "        vertical-align: top;\n",
       "    }\n",
       "\n",
       "    .dataframe thead th {\n",
       "        text-align: right;\n",
       "    }\n",
       "</style>\n",
       "<table border=\"1\" class=\"dataframe\">\n",
       "  <thead>\n",
       "    <tr style=\"text-align: right;\">\n",
       "      <th></th>\n",
       "      <th>Buying_Price</th>\n",
       "      <th>Maintenance_Price</th>\n",
       "      <th>Number_Of_Doors</th>\n",
       "      <th>Number_Of_Persons</th>\n",
       "      <th>Boot_Size</th>\n",
       "      <th>Safety</th>\n",
       "      <th>Acceptability</th>\n",
       "    </tr>\n",
       "  </thead>\n",
       "  <tbody>\n",
       "    <tr>\n",
       "      <th>0</th>\n",
       "      <td>3</td>\n",
       "      <td>3</td>\n",
       "      <td>0</td>\n",
       "      <td>0</td>\n",
       "      <td>0</td>\n",
       "      <td>0</td>\n",
       "      <td>0</td>\n",
       "    </tr>\n",
       "    <tr>\n",
       "      <th>1</th>\n",
       "      <td>3</td>\n",
       "      <td>3</td>\n",
       "      <td>0</td>\n",
       "      <td>0</td>\n",
       "      <td>0</td>\n",
       "      <td>1</td>\n",
       "      <td>0</td>\n",
       "    </tr>\n",
       "    <tr>\n",
       "      <th>2</th>\n",
       "      <td>3</td>\n",
       "      <td>3</td>\n",
       "      <td>0</td>\n",
       "      <td>0</td>\n",
       "      <td>0</td>\n",
       "      <td>2</td>\n",
       "      <td>0</td>\n",
       "    </tr>\n",
       "    <tr>\n",
       "      <th>3</th>\n",
       "      <td>3</td>\n",
       "      <td>3</td>\n",
       "      <td>0</td>\n",
       "      <td>0</td>\n",
       "      <td>1</td>\n",
       "      <td>0</td>\n",
       "      <td>0</td>\n",
       "    </tr>\n",
       "    <tr>\n",
       "      <th>4</th>\n",
       "      <td>3</td>\n",
       "      <td>3</td>\n",
       "      <td>0</td>\n",
       "      <td>0</td>\n",
       "      <td>1</td>\n",
       "      <td>1</td>\n",
       "      <td>0</td>\n",
       "    </tr>\n",
       "  </tbody>\n",
       "</table>\n",
       "</div>"
      ],
      "text/plain": [
       "   Buying_Price  Maintenance_Price  Number_Of_Doors  Number_Of_Persons  \\\n",
       "0             3                  3                0                  0   \n",
       "1             3                  3                0                  0   \n",
       "2             3                  3                0                  0   \n",
       "3             3                  3                0                  0   \n",
       "4             3                  3                0                  0   \n",
       "\n",
       "   Boot_Size  Safety  Acceptability  \n",
       "0          0       0              0  \n",
       "1          0       1              0  \n",
       "2          0       2              0  \n",
       "3          1       0              0  \n",
       "4          1       1              0  "
      ]
     },
     "execution_count": 11,
     "metadata": {},
     "output_type": "execute_result"
    }
   ],
   "source": [
    "car_dataEnc.head()"
   ]
  },
  {
   "cell_type": "code",
   "execution_count": 12,
   "id": "13088d0a",
   "metadata": {},
   "outputs": [],
   "source": [
    "#Splitting the data into training and testing sets.\n",
    "from sklearn.model_selection import train_test_split\n",
    "X = car_dataEnc.drop(['Acceptability'], axis = 1)\n",
    "y = car_dataEnc['Acceptability']\n",
    "\n",
    "X_train, X_test, y_train, y_test = train_test_split(X, y, test_size = 0.3, random_state=0)"
   ]
  },
  {
   "cell_type": "code",
   "execution_count": 13,
   "id": "d8f8a330",
   "metadata": {},
   "outputs": [],
   "source": [
    "#Training the Model"
   ]
  },
  {
   "cell_type": "code",
   "execution_count": 14,
   "id": "43573281",
   "metadata": {},
   "outputs": [
    {
     "data": {
      "text/html": [
       "<style>#sk-container-id-1 {color: black;background-color: white;}#sk-container-id-1 pre{padding: 0;}#sk-container-id-1 div.sk-toggleable {background-color: white;}#sk-container-id-1 label.sk-toggleable__label {cursor: pointer;display: block;width: 100%;margin-bottom: 0;padding: 0.3em;box-sizing: border-box;text-align: center;}#sk-container-id-1 label.sk-toggleable__label-arrow:before {content: \"▸\";float: left;margin-right: 0.25em;color: #696969;}#sk-container-id-1 label.sk-toggleable__label-arrow:hover:before {color: black;}#sk-container-id-1 div.sk-estimator:hover label.sk-toggleable__label-arrow:before {color: black;}#sk-container-id-1 div.sk-toggleable__content {max-height: 0;max-width: 0;overflow: hidden;text-align: left;background-color: #f0f8ff;}#sk-container-id-1 div.sk-toggleable__content pre {margin: 0.2em;color: black;border-radius: 0.25em;background-color: #f0f8ff;}#sk-container-id-1 input.sk-toggleable__control:checked~div.sk-toggleable__content {max-height: 200px;max-width: 100%;overflow: auto;}#sk-container-id-1 input.sk-toggleable__control:checked~label.sk-toggleable__label-arrow:before {content: \"▾\";}#sk-container-id-1 div.sk-estimator input.sk-toggleable__control:checked~label.sk-toggleable__label {background-color: #d4ebff;}#sk-container-id-1 div.sk-label input.sk-toggleable__control:checked~label.sk-toggleable__label {background-color: #d4ebff;}#sk-container-id-1 input.sk-hidden--visually {border: 0;clip: rect(1px 1px 1px 1px);clip: rect(1px, 1px, 1px, 1px);height: 1px;margin: -1px;overflow: hidden;padding: 0;position: absolute;width: 1px;}#sk-container-id-1 div.sk-estimator {font-family: monospace;background-color: #f0f8ff;border: 1px dotted black;border-radius: 0.25em;box-sizing: border-box;margin-bottom: 0.5em;}#sk-container-id-1 div.sk-estimator:hover {background-color: #d4ebff;}#sk-container-id-1 div.sk-parallel-item::after {content: \"\";width: 100%;border-bottom: 1px solid gray;flex-grow: 1;}#sk-container-id-1 div.sk-label:hover label.sk-toggleable__label {background-color: #d4ebff;}#sk-container-id-1 div.sk-serial::before {content: \"\";position: absolute;border-left: 1px solid gray;box-sizing: border-box;top: 0;bottom: 0;left: 50%;z-index: 0;}#sk-container-id-1 div.sk-serial {display: flex;flex-direction: column;align-items: center;background-color: white;padding-right: 0.2em;padding-left: 0.2em;position: relative;}#sk-container-id-1 div.sk-item {position: relative;z-index: 1;}#sk-container-id-1 div.sk-parallel {display: flex;align-items: stretch;justify-content: center;background-color: white;position: relative;}#sk-container-id-1 div.sk-item::before, #sk-container-id-1 div.sk-parallel-item::before {content: \"\";position: absolute;border-left: 1px solid gray;box-sizing: border-box;top: 0;bottom: 0;left: 50%;z-index: -1;}#sk-container-id-1 div.sk-parallel-item {display: flex;flex-direction: column;z-index: 1;position: relative;background-color: white;}#sk-container-id-1 div.sk-parallel-item:first-child::after {align-self: flex-end;width: 50%;}#sk-container-id-1 div.sk-parallel-item:last-child::after {align-self: flex-start;width: 50%;}#sk-container-id-1 div.sk-parallel-item:only-child::after {width: 0;}#sk-container-id-1 div.sk-dashed-wrapped {border: 1px dashed gray;margin: 0 0.4em 0.5em 0.4em;box-sizing: border-box;padding-bottom: 0.4em;background-color: white;}#sk-container-id-1 div.sk-label label {font-family: monospace;font-weight: bold;display: inline-block;line-height: 1.2em;}#sk-container-id-1 div.sk-label-container {text-align: center;}#sk-container-id-1 div.sk-container {/* jupyter's `normalize.less` sets `[hidden] { display: none; }` but bootstrap.min.css set `[hidden] { display: none !important; }` so we also need the `!important` here to be able to override the default hidden behavior on the sphinx rendered scikit-learn.org. See: https://github.com/scikit-learn/scikit-learn/issues/21755 */display: inline-block !important;position: relative;}#sk-container-id-1 div.sk-text-repr-fallback {display: none;}</style><div id=\"sk-container-id-1\" class=\"sk-top-container\"><div class=\"sk-text-repr-fallback\"><pre>DecisionTreeClassifier(criterion=&#x27;entropy&#x27;, random_state=0)</pre><b>In a Jupyter environment, please rerun this cell to show the HTML representation or trust the notebook. <br />On GitHub, the HTML representation is unable to render, please try loading this page with nbviewer.org.</b></div><div class=\"sk-container\" hidden><div class=\"sk-item\"><div class=\"sk-estimator sk-toggleable\"><input class=\"sk-toggleable__control sk-hidden--visually\" id=\"sk-estimator-id-1\" type=\"checkbox\" checked><label for=\"sk-estimator-id-1\" class=\"sk-toggleable__label sk-toggleable__label-arrow\">DecisionTreeClassifier</label><div class=\"sk-toggleable__content\"><pre>DecisionTreeClassifier(criterion=&#x27;entropy&#x27;, random_state=0)</pre></div></div></div></div></div>"
      ],
      "text/plain": [
       "DecisionTreeClassifier(criterion='entropy', random_state=0)"
      ]
     },
     "execution_count": 14,
     "metadata": {},
     "output_type": "execute_result"
    }
   ],
   "source": [
    "# Using Decision Tree\n",
    "from sklearn.tree import DecisionTreeClassifier\n",
    "\n",
    "carData_dt = DecisionTreeClassifier(criterion = 'entropy', random_state = 0)\n",
    "carData_dt.fit(X_train, y_train)"
   ]
  },
  {
   "cell_type": "code",
   "execution_count": 15,
   "id": "6cac7fe7",
   "metadata": {},
   "outputs": [
    {
     "name": "stdout",
     "output_type": "stream",
     "text": [
      "[1 0 0 0 0 2 0 1 2 0 0 0 1 0 0 1 0 0 1 0 2 1 2 0 0 0 0 0 0 0 2 1 0 1 2 0 0\n",
      " 0 0 0 0 0 0 0 3 0 0 1 0 0 0 0 0 0 0 0 0 0 0 0 1 0 0 0 0 1 0 0 0 0 0 1 1 1\n",
      " 2 1 0 1 1 0 1 1 1 0 0 0 0 2 0 0 0 1 0 0 0 3 0 1 1 0 0 0 1 0 3 1 0 1 0 0 0\n",
      " 0 0 1 0 2 1 0 0 0 0 0 1 0 0 0 0 1 2 0 0 0 1 0 0 0 0 0 0 0 0 0 0 1 0 0 1 0\n",
      " 1 1 1 1 0 0 0 1 0 0 0 0 1 0 0 0 1 0 0 0 0 0 0 0 0 0 1 0 0 0 0 0 1 1 1 0 1\n",
      " 0 2 0 0 0 0 1 0 0 0 1 0 2 0 0 0 0 1 0 0 0 0 0 0 0 0 1 0 0 0 0 0 1 0 0 0 1\n",
      " 0 3 0 0 0 3 0 0 0 0 1 0 0 0 0 0 0 0 0 0 0 0 2 0 1 0 0 0 0 0 2 1 2 1 1 0 0\n",
      " 0 1 0 0 1 0 0 3 0 1 0 0 0 1 0 1 0 0 0 0 0 0 0 1 0 0 1 0 3 2 0 0 0 0 0 0 0\n",
      " 0 0 0 1 0 1 1 2 2 0 1 0 1 0 2 1 0 0 0 0 0 0 0 1 0 0 1 0 1 0 0 0 0 0 1 0 2\n",
      " 0 2 0 0 0 3 0 0 3 0 1 0 1 0 0 0 0 1 0 0 1 0 0 0 1 0 1 0 1 0 0 2 3 1 1 0 3\n",
      " 0 0 0 1 0 0 0 1 0 1 2 0 2 0 0 0 1 0 0 0 0 0 0 3 0 0 1 0 0 1 0 1 0 0 3 0 0\n",
      " 0 0 1 0 0 0 0 0 0 1 1 0 1 0 2 3 0 0 0 3 0 0 1 0 1 0 0 0 0 0 0 1 1 1 0 0 0\n",
      " 0 0 1 0 0 0 0 0 0 0 0 0 0 0 0 0 0 0 0 0 0 1 1 0 1 0 0 0 0 0 0 0 0 1 1 0 0\n",
      " 0 0 1 1 0 0 0 0 0 0 0 0 1 1 0 0 2 0 0 1 0 2 0 0 2 0 0 0 0 1 0 0 0 0 0 0 1\n",
      " 1]\n"
     ]
    }
   ],
   "source": [
    "#Predicting the test results\n",
    "car_pred = carData_dt.predict(X_test)\n",
    "print(car_pred)"
   ]
  },
  {
   "cell_type": "code",
   "execution_count": 16,
   "id": "9ab3f9c8",
   "metadata": {},
   "outputs": [
    {
     "name": "stdout",
     "output_type": "stream",
     "text": [
      "1318    0\n",
      "124     0\n",
      "648     0\n",
      "249     0\n",
      "1599    0\n",
      "       ..\n",
      "906     0\n",
      "309     0\n",
      "838     0\n",
      "1076    1\n",
      "1453    1\n",
      "Name: Acceptability, Length: 519, dtype: int64\n"
     ]
    }
   ],
   "source": [
    "print(y_test)"
   ]
  },
  {
   "cell_type": "code",
   "execution_count": 17,
   "id": "58fcdfee",
   "metadata": {},
   "outputs": [
    {
     "name": "stdout",
     "output_type": "stream",
     "text": [
      "accuracy:0.982659\n",
      "\n",
      "\n",
      "Confusion Matrix:\n",
      "[[362   1   0   0]\n",
      " [  2 109   4   0]\n",
      " [  0   1  24   0]\n",
      " [  0   1   0  15]] \n",
      "\n",
      "\n",
      "-----------------------------\n",
      "Classification Report:\n",
      "\n",
      "              precision    recall  f1-score   support\n",
      "\n",
      "           0       0.99      1.00      1.00       363\n",
      "           1       0.97      0.95      0.96       115\n",
      "           2       0.86      0.96      0.91        25\n",
      "           3       1.00      0.94      0.97        16\n",
      "\n",
      "    accuracy                           0.98       519\n",
      "   macro avg       0.96      0.96      0.96       519\n",
      "weighted avg       0.98      0.98      0.98       519\n",
      "\n"
     ]
    }
   ],
   "source": [
    "# To evaluate performance of the model\n",
    "\n",
    "from sklearn import metrics\n",
    "acc = metrics.accuracy_score(y_test, car_pred)\n",
    "print('accuracy:%2f\\n\\n'%(acc))\n",
    "cm = metrics.confusion_matrix(y_test, car_pred)\n",
    "print('Confusion Matrix:')\n",
    "print(cm,'\\n\\n')\n",
    "print('-----------------------------')\n",
    "result = metrics.classification_report(y_test, car_pred)\n",
    "print('Classification Report:\\n')\n",
    "print(result)"
   ]
  },
  {
   "cell_type": "code",
   "execution_count": 18,
   "id": "7d62acb4",
   "metadata": {
    "scrolled": true
   },
   "outputs": [
    {
     "data": {
      "image/png": "[encoded data removed]",
      "text/plain": [
       "<Figure size 432x288 with 2 Axes>"
      ]
     },
     "metadata": {
      "needs_background": "light"
     },
     "output_type": "display_data"
    }
   ],
   "source": [
    "#Heat map visualization\n",
    "ax =sns.heatmap(cm, cmap='flare',annot=True, fmt='d')\n",
    "\n",
    "plt.xlabel('Predicted Class', fontsize = 12)\n",
    "plt.ylabel('True Class', fontsize=12)\n",
    "plt.title('Confusion Matrix', fontsize=12)\n",
    "\n",
    "plt.show()"
   ]
  },
  {
   "cell_type": "code",
   "execution_count": 19,
   "id": "d746e422",
   "metadata": {},
   "outputs": [],
   "source": [
    "#Visualizing the Decision tree"
   ]
  },
  {
   "cell_type": "code",
   "execution_count": 20,
   "id": "066fe29f",
   "metadata": {},
   "outputs": [
    {
     "name": "stdout",
     "output_type": "stream",
     "text": [
      "Requirement already satisfied: graphviz in c:\\users\\user\\anaconda3\\lib\\site-packages (0.20.1)\n",
      "Requirement already satisfied: pydotplus in c:\\users\\user\\anaconda3\\lib\\site-packages (2.0.2)\n",
      "Requirement already satisfied: pyparsing>=2.0.1 in c:\\users\\user\\anaconda3\\lib\\site-packages (from pydotplus) (3.0.4)\n"
     ]
    }
   ],
   "source": [
    "!pip3 install graphviz\n",
    "!pip3 install pydotplus"
   ]
  },
  {
   "cell_type": "code",
   "execution_count": 21,
   "id": "57579384",
   "metadata": {},
   "outputs": [
    {
     "name": "stdout",
     "output_type": "stream",
     "text": [
      "Retrieving notices: ...working... done\n",
      "Collecting package metadata (current_repodata.json): ...working... done\n",
      "Solving environment: ...working... done\n",
      "\n",
      "# All requested packages already installed.\n",
      "\n",
      "\n",
      "Note: you may need to restart the kernel to use updated packages.\n"
     ]
    }
   ],
   "source": [
    "conda install python-graphviz"
   ]
  },
  {
   "cell_type": "code",
   "execution_count": 22,
   "id": "966f2067",
   "metadata": {
    "scrolled": true
   },
   "outputs": [
    {
     "data": {
      "text/plain": [
       "<matplotlib.image.AxesImage at 0x26439382f40>"
      ]
     },
     "execution_count": 22,
     "metadata": {},
     "output_type": "execute_result"
    },
    {
     "data": {
      "image/png": "[encoded data removed]",
      "text/plain": [
       "<Figure size 432x288 with 1 Axes>"
      ]
     },
     "metadata": {
      "needs_background": "light"
     },
     "output_type": "display_data"
    }
   ],
   "source": [
    "from sklearn import tree\n",
    "import pydotplus\n",
    "import graphviz \n",
    "from graphviz import Source\n",
    "\n",
    "\n",
    "dot_data=tree.export_graphviz(carData_dt,filled=True,rounded=True)\n",
    "graph=pydotplus.graph_from_dot_data(dot_data)\n",
    "graph.write_png('tree.png')  \n",
    "\n",
    "plt.imshow(plt.imread('tree.png'))"
   ]
  },
  {
   "cell_type": "code",
   "execution_count": 23,
   "id": "1e1e3a65",
   "metadata": {},
   "outputs": [
    {
     "data": {
      "text/plain": [
       "'name of file.pdf'"
      ]
     },
     "execution_count": 23,
     "metadata": {},
     "output_type": "execute_result"
    }
   ],
   "source": [
    "dot_data = tree.export_graphviz(carData_dt, out_file=None, feature_names=X.columns)\n",
    "graph = graphviz.Source(dot_data) \n",
    "graph.render(\"name of file\",view = True)\n"
   ]
  },
  {
   "cell_type": "code",
   "execution_count": null,
   "id": "3aeb6c15",
   "metadata": {},
   "outputs": [],
   "source": []
  }
 ],
 "metadata": {
  "kernelspec": {
   "display_name": "Python 3 (ipykernel)",
   "language": "python",
   "name": "python3"
  },
  "language_info": {
   "codemirror_mode": {
    "name": "ipython",
    "version": 3
   },
   "file_extension": ".py",
   "mimetype": "text/x-python",
   "name": "python",
   "nbconvert_exporter": "python",
   "pygments_lexer": "ipython3",
   "version": "3.9.12"
  }
 },
 "nbformat": 4,
 "nbformat_minor": 5
}
